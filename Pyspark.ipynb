{
  "nbformat": 4,
  "nbformat_minor": 0,
  "metadata": {
    "colab": {
      "name": "Pyspark.ipynb",
      "provenance": [],
      "authorship_tag": "ABX9TyNtUIuCb/MpmSs+yYeDB1xu",
      "include_colab_link": true
    },
    "kernelspec": {
      "name": "python3",
      "display_name": "Python 3"
    },
    "language_info": {
      "name": "python"
    },
    "accelerator": "GPU"
  },
  "cells": [
    {
      "cell_type": "markdown",
      "metadata": {
        "id": "view-in-github",
        "colab_type": "text"
      },
      "source": [
        "<a href=\"https://colab.research.google.com/github/Code-With-aashi/Pyspark-/blob/main/Pyspark.ipynb\" target=\"_parent\"><img src=\"https://colab.research.google.com/assets/colab-badge.svg\" alt=\"Open In Colab\"/></a>"
      ]
    },
    {
      "cell_type": "code",
      "metadata": {
        "colab": {
          "base_uri": "https://localhost:8080/"
        },
        "id": "wFYa2F3o8523",
        "outputId": "121ac69c-b03a-4aae-ed11-93904c267624"
      },
      "source": [
        "!apt-get install openjdk-11-headless -qq > /dev/ null\n",
        "!wget -q https://downloads.apache.org/spark/spark-3.0.2/spark-3.0.2-bin-hadoop2.7.tgz\n",
        "!tar xf spark-3.0.2-bin-hadoop2.7.tgz\n",
        "!pip install -q findspark\n"
      ],
      "execution_count": null,
      "outputs": [
        {
          "output_type": "stream",
          "text": [
            "/bin/bash: /dev/: Is a directory\n"
          ],
          "name": "stdout"
        }
      ]
    },
    {
      "cell_type": "code",
      "metadata": {
        "colab": {
          "base_uri": "https://localhost:8080/"
        },
        "id": "nGe71AQfDdbt",
        "outputId": "3978c5e2-119d-4794-e853-f4620d3e728d"
      },
      "source": [
        "!ls /usr/lib/jvm/"
      ],
      "execution_count": null,
      "outputs": [
        {
          "output_type": "stream",
          "text": [
            "default-java  java-1.11.0-openjdk-amd64  java-11-openjdk-amd64\n"
          ],
          "name": "stdout"
        }
      ]
    },
    {
      "cell_type": "code",
      "metadata": {
        "colab": {
          "base_uri": "https://localhost:8080/"
        },
        "id": "KJgey11gDuCl",
        "outputId": "33220976-4add-47f0-cc34-51219b35235a"
      },
      "source": [
        "!pip install -U pyarrow"
      ],
      "execution_count": null,
      "outputs": [
        {
          "output_type": "stream",
          "text": [
            "Requirement already up-to-date: pyarrow in /usr/local/lib/python3.7/dist-packages (3.0.0)\n",
            "Requirement already satisfied, skipping upgrade: numpy>=1.16.6 in /usr/local/lib/python3.7/dist-packages (from pyarrow) (1.19.5)\n"
          ],
          "name": "stdout"
        }
      ]
    },
    {
      "cell_type": "code",
      "metadata": {
        "id": "HADl2Lr5EKdP"
      },
      "source": [
        "import os \n",
        "os.environ[\"JAVA_HOME\"] = \"/usr/lib/jvm/java-11-openjdk-amd64\"\n",
        "os.environ[\"SPARK_HOME\"] = \"/content/spark-3.0.2-bin-hadoop2.7\""
      ],
      "execution_count": null,
      "outputs": []
    },
    {
      "cell_type": "markdown",
      "metadata": {
        "id": "CQjRkWVwHpAJ"
      },
      "source": [
        "we are creating RDD(resilient distribution data set)"
      ]
    },
    {
      "cell_type": "code",
      "metadata": {
        "id": "JNz-dUI8OTK9"
      },
      "source": [
        "import findspark\n",
        "findspark.init()\n",
        "from pyspark.sql import SparkSession\n",
        "spark = SparkSession.builder.master(\"local[*]\").getOrCreate()\n"
      ],
      "execution_count": null,
      "outputs": []
    },
    {
      "cell_type": "code",
      "metadata": {
        "id": "pwKn-BtATK1H"
      },
      "source": [
        "#To Test if pyspark is working or not !\n",
        "reader = spark.read"
      ],
      "execution_count": null,
      "outputs": []
    },
    {
      "cell_type": "code",
      "metadata": {
        "id": "p_hXe7EjTlEj"
      },
      "source": [
        "rdd = spark.sparkContext.parallelize([1,2,3,4,5,6])"
      ],
      "execution_count": null,
      "outputs": []
    },
    {
      "cell_type": "code",
      "metadata": {
        "colab": {
          "base_uri": "https://localhost:8080/"
        },
        "id": "sQYuRXheUNa8",
        "outputId": "986afdf9-e720-4403-df72-60b5ca6ecdc1"
      },
      "source": [
        "# \"Count\" will count the total number of elements of the data set\n",
        "rdd.count()"
      ],
      "execution_count": null,
      "outputs": [
        {
          "output_type": "execute_result",
          "data": {
            "text/plain": [
              "6"
            ]
          },
          "metadata": {
            "tags": []
          },
          "execution_count": 8
        }
      ]
    },
    {
      "cell_type": "code",
      "metadata": {
        "colab": {
          "base_uri": "https://localhost:8080/"
        },
        "id": "wT5bwR5JjLpU",
        "outputId": "a6af0c9d-5c4d-4f2e-8fa8-6bf9499d2033"
      },
      "source": [
        "#  \"Take\" will return first n numbers of element in the dataset\n",
        "rdd.take(5)"
      ],
      "execution_count": null,
      "outputs": [
        {
          "output_type": "execute_result",
          "data": {
            "text/plain": [
              "[1, 2, 3, 4, 5]"
            ]
          },
          "metadata": {
            "tags": []
          },
          "execution_count": 9
        }
      ]
    },
    {
      "cell_type": "code",
      "metadata": {
        "id": "ZdP_giGlkPyc"
      },
      "source": [
        "# This Python 3 environment comes with many helpful analytics libraries installed\n",
        "\n",
        "# For example, here's several helpful packages to load in \n",
        "\n",
        "import numpy as np # linear algebra\n",
        "import pandas as pd # data processing, CSV file I/O (e.g. pd.read_csv)\n",
        "\n",
        "\n",
        "\n"
      ],
      "execution_count": null,
      "outputs": []
    },
    {
      "cell_type": "markdown",
      "metadata": {
        "id": "AFfL5oSbMvRC"
      },
      "source": [
        "\n",
        "\n",
        "\n",
        "**Following topics have been covered here:**\n",
        "\n",
        "\n",
        "*   Setting up the environment\n",
        "*   Loading the dataset into Pyspark\n",
        "\n",
        "*   Applying Filters\n",
        "*   Group by and Aggregation\n",
        "\n",
        "\n",
        "\n",
        "\n",
        "*   Joins (left, right, inner, full)\n",
        "*   Partition By & Window Function\n",
        "\n",
        "*   Automating the code\n",
        "\n",
        "\n",
        "\n",
        "\n",
        "\n",
        "\n",
        "\n",
        "\n",
        "\n",
        "\n",
        "\n",
        "\n",
        "\n",
        "\n",
        "\n"
      ]
    },
    {
      "cell_type": "code",
      "metadata": {
        "id": "DjU3RtNZnoHF"
      },
      "source": [
        "# SparkContext is used to create and initialize Pyspark\n",
        "from pyspark import SparkContext\n",
        "# provide the appName\n",
        "sc =  SparkSession.builder.master (\"local[*]\").appName('covid19analysis') .getOrCreate()\n",
        "# if something is printed like the version of the Spark; it indicates that the spark successfully initiated\n"
      ],
      "execution_count": null,
      "outputs": []
    },
    {
      "cell_type": "code",
      "metadata": {
        "colab": {
          "base_uri": "https://localhost:8080/",
          "height": 219
        },
        "id": "zHt-bQAzwuyJ",
        "outputId": "45055eab-e045-4b3d-9984-d0b0abdf2e57"
      },
      "source": [
        "sc"
      ],
      "execution_count": null,
      "outputs": [
        {
          "output_type": "execute_result",
          "data": {
            "text/html": [
              "\n",
              "            <div>\n",
              "                <p><b>SparkSession - in-memory</b></p>\n",
              "                \n",
              "        <div>\n",
              "            <p><b>SparkContext</b></p>\n",
              "\n",
              "            <p><a href=\"http://4808aa50a00a:4040\">Spark UI</a></p>\n",
              "\n",
              "            <dl>\n",
              "              <dt>Version</dt>\n",
              "                <dd><code>v3.0.2</code></dd>\n",
              "              <dt>Master</dt>\n",
              "                <dd><code>local[*]</code></dd>\n",
              "              <dt>AppName</dt>\n",
              "                <dd><code>pyspark-shell</code></dd>\n",
              "            </dl>\n",
              "        </div>\n",
              "        \n",
              "            </div>\n",
              "        "
            ],
            "text/plain": [
              "<pyspark.sql.session.SparkSession at 0x7f7462f5d090>"
            ]
          },
          "metadata": {
            "tags": []
          },
          "execution_count": 13
        }
      ]
    },
    {
      "cell_type": "code",
      "metadata": {
        "colab": {
          "base_uri": "https://localhost:8080/"
        },
        "id": "l5CcPDpQxGzF",
        "outputId": "26f106cd-5138-4f16-8918-411d421198b9"
      },
      "source": [
        "# we can also run SQL queries with same performance as that of using Pyspark modules/functions\n",
        "# so to enable such functionalities and to use the pyspark functions we initialize it\n",
        "from pyspark.sql import SQLContext\n",
        "# initializing SQLContext\n",
        "sqlContext = SQLContext(sc)\n",
        "# to check if it got initialized or not\n",
        "sqlContext"
      ],
      "execution_count": null,
      "outputs": [
        {
          "output_type": "execute_result",
          "data": {
            "text/plain": [
              "<pyspark.sql.context.SQLContext at 0x7f7462dfcbd0>"
            ]
          },
          "metadata": {
            "tags": []
          },
          "execution_count": 14
        }
      ]
    },
    {
      "cell_type": "code",
      "metadata": {
        "id": "H8uGjMu8xX63"
      },
      "source": [
        "# we will use some of the functions present in pyspark like sum, min, max\n",
        "# we import them using alias and not like - from pyspark.sql.functions import *\n",
        "# the reason being; there are already functions sum, min, max, etc. present in python and it will override them\n",
        "import pyspark.sql.functions as F\n",
        "# this contains the data-types avilable in the pyspark\n",
        "import pyspark.sql.types as T"
      ],
      "execution_count": null,
      "outputs": []
    },
    {
      "cell_type": "code",
      "metadata": {
        "colab": {
          "resources": {
            "http://localhost:8080/nbextensions/google.colab/files.js": {
              "data": "Ly8gQ29weXJpZ2h0IDIwMTcgR29vZ2xlIExMQwovLwovLyBMaWNlbnNlZCB1bmRlciB0aGUgQXBhY2hlIExpY2Vuc2UsIFZlcnNpb24gMi4wICh0aGUgIkxpY2Vuc2UiKTsKLy8geW91IG1heSBub3QgdXNlIHRoaXMgZmlsZSBleGNlcHQgaW4gY29tcGxpYW5jZSB3aXRoIHRoZSBMaWNlbnNlLgovLyBZb3UgbWF5IG9idGFpbiBhIGNvcHkgb2YgdGhlIExpY2Vuc2UgYXQKLy8KLy8gICAgICBodHRwOi8vd3d3LmFwYWNoZS5vcmcvbGljZW5zZXMvTElDRU5TRS0yLjAKLy8KLy8gVW5sZXNzIHJlcXVpcmVkIGJ5IGFwcGxpY2FibGUgbGF3IG9yIGFncmVlZCB0byBpbiB3cml0aW5nLCBzb2Z0d2FyZQovLyBkaXN0cmlidXRlZCB1bmRlciB0aGUgTGljZW5zZSBpcyBkaXN0cmlidXRlZCBvbiBhbiAiQVMgSVMiIEJBU0lTLAovLyBXSVRIT1VUIFdBUlJBTlRJRVMgT1IgQ09ORElUSU9OUyBPRiBBTlkgS0lORCwgZWl0aGVyIGV4cHJlc3Mgb3IgaW1wbGllZC4KLy8gU2VlIHRoZSBMaWNlbnNlIGZvciB0aGUgc3BlY2lmaWMgbGFuZ3VhZ2UgZ292ZXJuaW5nIHBlcm1pc3Npb25zIGFuZAovLyBsaW1pdGF0aW9ucyB1bmRlciB0aGUgTGljZW5zZS4KCi8qKgogKiBAZmlsZW92ZXJ2aWV3IEhlbHBlcnMgZm9yIGdvb2dsZS5jb2xhYiBQeXRob24gbW9kdWxlLgogKi8KKGZ1bmN0aW9uKHNjb3BlKSB7CmZ1bmN0aW9uIHNwYW4odGV4dCwgc3R5bGVBdHRyaWJ1dGVzID0ge30pIHsKICBjb25zdCBlbGVtZW50ID0gZG9jdW1lbnQuY3JlYXRlRWxlbWVudCgnc3BhbicpOwogIGVsZW1lbnQudGV4dENvbnRlbnQgPSB0ZXh0OwogIGZvciAoY29uc3Qga2V5IG9mIE9iamVjdC5rZXlzKHN0eWxlQXR0cmlidXRlcykpIHsKICAgIGVsZW1lbnQuc3R5bGVba2V5XSA9IHN0eWxlQXR0cmlidXRlc1trZXldOwogIH0KICByZXR1cm4gZWxlbWVudDsKfQoKLy8gTWF4IG51bWJlciBvZiBieXRlcyB3aGljaCB3aWxsIGJlIHVwbG9hZGVkIGF0IGEgdGltZS4KY29uc3QgTUFYX1BBWUxPQURfU0laRSA9IDEwMCAqIDEwMjQ7CgpmdW5jdGlvbiBfdXBsb2FkRmlsZXMoaW5wdXRJZCwgb3V0cHV0SWQpIHsKICBjb25zdCBzdGVwcyA9IHVwbG9hZEZpbGVzU3RlcChpbnB1dElkLCBvdXRwdXRJZCk7CiAgY29uc3Qgb3V0cHV0RWxlbWVudCA9IGRvY3VtZW50LmdldEVsZW1lbnRCeUlkKG91dHB1dElkKTsKICAvLyBDYWNoZSBzdGVwcyBvbiB0aGUgb3V0cHV0RWxlbWVudCB0byBtYWtlIGl0IGF2YWlsYWJsZSBmb3IgdGhlIG5leHQgY2FsbAogIC8vIHRvIHVwbG9hZEZpbGVzQ29udGludWUgZnJvbSBQeXRob24uCiAgb3V0cHV0RWxlbWVudC5zdGVwcyA9IHN0ZXBzOwoKICByZXR1cm4gX3VwbG9hZEZpbGVzQ29udGludWUob3V0cHV0SWQpOwp9CgovLyBUaGlzIGlzIHJvdWdobHkgYW4gYXN5bmMgZ2VuZXJhdG9yIChub3Qgc3VwcG9ydGVkIGluIHRoZSBicm93c2VyIHlldCksCi8vIHdoZXJlIHRoZXJlIGFyZSBtdWx0aXBsZSBhc3luY2hyb25vdXMgc3RlcHMgYW5kIHRoZSBQeXRob24gc2lkZSBpcyBnb2luZwovLyB0byBwb2xsIGZvciBjb21wbGV0aW9uIG9mIGVhY2ggc3RlcC4KLy8gVGhpcyB1c2VzIGEgUHJvbWlzZSB0byBibG9jayB0aGUgcHl0aG9uIHNpZGUgb24gY29tcGxldGlvbiBvZiBlYWNoIHN0ZXAsCi8vIHRoZW4gcGFzc2VzIHRoZSByZXN1bHQgb2YgdGhlIHByZXZpb3VzIHN0ZXAgYXMgdGhlIGlucHV0IHRvIHRoZSBuZXh0IHN0ZXAuCmZ1bmN0aW9uIF91cGxvYWRGaWxlc0NvbnRpbnVlKG91dHB1dElkKSB7CiAgY29uc3Qgb3V0cHV0RWxlbWVudCA9IGRvY3VtZW50LmdldEVsZW1lbnRCeUlkKG91dHB1dElkKTsKICBjb25zdCBzdGVwcyA9IG91dHB1dEVsZW1lbnQuc3RlcHM7CgogIGNvbnN0IG5leHQgPSBzdGVwcy5uZXh0KG91dHB1dEVsZW1lbnQubGFzdFByb21pc2VWYWx1ZSk7CiAgcmV0dXJuIFByb21pc2UucmVzb2x2ZShuZXh0LnZhbHVlLnByb21pc2UpLnRoZW4oKHZhbHVlKSA9PiB7CiAgICAvLyBDYWNoZSB0aGUgbGFzdCBwcm9taXNlIHZhbHVlIHRvIG1ha2UgaXQgYXZhaWxhYmxlIHRvIHRoZSBuZXh0CiAgICAvLyBzdGVwIG9mIHRoZSBnZW5lcmF0b3IuCiAgICBvdXRwdXRFbGVtZW50Lmxhc3RQcm9taXNlVmFsdWUgPSB2YWx1ZTsKICAgIHJldHVybiBuZXh0LnZhbHVlLnJlc3BvbnNlOwogIH0pOwp9CgovKioKICogR2VuZXJhdG9yIGZ1bmN0aW9uIHdoaWNoIGlzIGNhbGxlZCBiZXR3ZWVuIGVhY2ggYXN5bmMgc3RlcCBvZiB0aGUgdXBsb2FkCiAqIHByb2Nlc3MuCiAqIEBwYXJhbSB7c3RyaW5nfSBpbnB1dElkIEVsZW1lbnQgSUQgb2YgdGhlIGlucHV0IGZpbGUgcGlja2VyIGVsZW1lbnQuCiAqIEBwYXJhbSB7c3RyaW5nfSBvdXRwdXRJZCBFbGVtZW50IElEIG9mIHRoZSBvdXRwdXQgZGlzcGxheS4KICogQHJldHVybiB7IUl0ZXJhYmxlPCFPYmplY3Q+fSBJdGVyYWJsZSBvZiBuZXh0IHN0ZXBzLgogKi8KZnVuY3Rpb24qIHVwbG9hZEZpbGVzU3RlcChpbnB1dElkLCBvdXRwdXRJZCkgewogIGNvbnN0IGlucHV0RWxlbWVudCA9IGRvY3VtZW50LmdldEVsZW1lbnRCeUlkKGlucHV0SWQpOwogIGlucHV0RWxlbWVudC5kaXNhYmxlZCA9IGZhbHNlOwoKICBjb25zdCBvdXRwdXRFbGVtZW50ID0gZG9jdW1lbnQuZ2V0RWxlbWVudEJ5SWQob3V0cHV0SWQpOwogIG91dHB1dEVsZW1lbnQuaW5uZXJIVE1MID0gJyc7CgogIGNvbnN0IHBpY2tlZFByb21pc2UgPSBuZXcgUHJvbWlzZSgocmVzb2x2ZSkgPT4gewogICAgaW5wdXRFbGVtZW50LmFkZEV2ZW50TGlzdGVuZXIoJ2NoYW5nZScsIChlKSA9PiB7CiAgICAgIHJlc29sdmUoZS50YXJnZXQuZmlsZXMpOwogICAgfSk7CiAgfSk7CgogIGNvbnN0IGNhbmNlbCA9IGRvY3VtZW50LmNyZWF0ZUVsZW1lbnQoJ2J1dHRvbicpOwogIGlucHV0RWxlbWVudC5wYXJlbnRFbGVtZW50LmFwcGVuZENoaWxkKGNhbmNlbCk7CiAgY2FuY2VsLnRleHRDb250ZW50ID0gJ0NhbmNlbCB1cGxvYWQnOwogIGNvbnN0IGNhbmNlbFByb21pc2UgPSBuZXcgUHJvbWlzZSgocmVzb2x2ZSkgPT4gewogICAgY2FuY2VsLm9uY2xpY2sgPSAoKSA9PiB7CiAgICAgIHJlc29sdmUobnVsbCk7CiAgICB9OwogIH0pOwoKICAvLyBXYWl0IGZvciB0aGUgdXNlciB0byBwaWNrIHRoZSBmaWxlcy4KICBjb25zdCBmaWxlcyA9IHlpZWxkIHsKICAgIHByb21pc2U6IFByb21pc2UucmFjZShbcGlja2VkUHJvbWlzZSwgY2FuY2VsUHJvbWlzZV0pLAogICAgcmVzcG9uc2U6IHsKICAgICAgYWN0aW9uOiAnc3RhcnRpbmcnLAogICAgfQogIH07CgogIGNhbmNlbC5yZW1vdmUoKTsKCiAgLy8gRGlzYWJsZSB0aGUgaW5wdXQgZWxlbWVudCBzaW5jZSBmdXJ0aGVyIHBpY2tzIGFyZSBub3QgYWxsb3dlZC4KICBpbnB1dEVsZW1lbnQuZGlzYWJsZWQgPSB0cnVlOwoKICBpZiAoIWZpbGVzKSB7CiAgICByZXR1cm4gewogICAgICByZXNwb25zZTogewogICAgICAgIGFjdGlvbjogJ2NvbXBsZXRlJywKICAgICAgfQogICAgfTsKICB9CgogIGZvciAoY29uc3QgZmlsZSBvZiBmaWxlcykgewogICAgY29uc3QgbGkgPSBkb2N1bWVudC5jcmVhdGVFbGVtZW50KCdsaScpOwogICAgbGkuYXBwZW5kKHNwYW4oZmlsZS5uYW1lLCB7Zm9udFdlaWdodDogJ2JvbGQnfSkpOwogICAgbGkuYXBwZW5kKHNwYW4oCiAgICAgICAgYCgke2ZpbGUudHlwZSB8fCAnbi9hJ30pIC0gJHtmaWxlLnNpemV9IGJ5dGVzLCBgICsKICAgICAgICBgbGFzdCBtb2RpZmllZDogJHsKICAgICAgICAgICAgZmlsZS5sYXN0TW9kaWZpZWREYXRlID8gZmlsZS5sYXN0TW9kaWZpZWREYXRlLnRvTG9jYWxlRGF0ZVN0cmluZygpIDoKICAgICAgICAgICAgICAgICAgICAgICAgICAgICAgICAgICAgJ24vYSd9IC0gYCkpOwogICAgY29uc3QgcGVyY2VudCA9IHNwYW4oJzAlIGRvbmUnKTsKICAgIGxpLmFwcGVuZENoaWxkKHBlcmNlbnQpOwoKICAgIG91dHB1dEVsZW1lbnQuYXBwZW5kQ2hpbGQobGkpOwoKICAgIGNvbnN0IGZpbGVEYXRhUHJvbWlzZSA9IG5ldyBQcm9taXNlKChyZXNvbHZlKSA9PiB7CiAgICAgIGNvbnN0IHJlYWRlciA9IG5ldyBGaWxlUmVhZGVyKCk7CiAgICAgIHJlYWRlci5vbmxvYWQgPSAoZSkgPT4gewogICAgICAgIHJlc29sdmUoZS50YXJnZXQucmVzdWx0KTsKICAgICAgfTsKICAgICAgcmVhZGVyLnJlYWRBc0FycmF5QnVmZmVyKGZpbGUpOwogICAgfSk7CiAgICAvLyBXYWl0IGZvciB0aGUgZGF0YSB0byBiZSByZWFkeS4KICAgIGxldCBmaWxlRGF0YSA9IHlpZWxkIHsKICAgICAgcHJvbWlzZTogZmlsZURhdGFQcm9taXNlLAogICAgICByZXNwb25zZTogewogICAgICAgIGFjdGlvbjogJ2NvbnRpbnVlJywKICAgICAgfQogICAgfTsKCiAgICAvLyBVc2UgYSBjaHVua2VkIHNlbmRpbmcgdG8gYXZvaWQgbWVzc2FnZSBzaXplIGxpbWl0cy4gU2VlIGIvNjIxMTU2NjAuCiAgICBsZXQgcG9zaXRpb24gPSAwOwogICAgd2hpbGUgKHBvc2l0aW9uIDwgZmlsZURhdGEuYnl0ZUxlbmd0aCkgewogICAgICBjb25zdCBsZW5ndGggPSBNYXRoLm1pbihmaWxlRGF0YS5ieXRlTGVuZ3RoIC0gcG9zaXRpb24sIE1BWF9QQVlMT0FEX1NJWkUpOwogICAgICBjb25zdCBjaHVuayA9IG5ldyBVaW50OEFycmF5KGZpbGVEYXRhLCBwb3NpdGlvbiwgbGVuZ3RoKTsKICAgICAgcG9zaXRpb24gKz0gbGVuZ3RoOwoKICAgICAgY29uc3QgYmFzZTY0ID0gYnRvYShTdHJpbmcuZnJvbUNoYXJDb2RlLmFwcGx5KG51bGwsIGNodW5rKSk7CiAgICAgIHlpZWxkIHsKICAgICAgICByZXNwb25zZTogewogICAgICAgICAgYWN0aW9uOiAnYXBwZW5kJywKICAgICAgICAgIGZpbGU6IGZpbGUubmFtZSwKICAgICAgICAgIGRhdGE6IGJhc2U2NCwKICAgICAgICB9LAogICAgICB9OwogICAgICBwZXJjZW50LnRleHRDb250ZW50ID0KICAgICAgICAgIGAke01hdGgucm91bmQoKHBvc2l0aW9uIC8gZmlsZURhdGEuYnl0ZUxlbmd0aCkgKiAxMDApfSUgZG9uZWA7CiAgICB9CiAgfQoKICAvLyBBbGwgZG9uZS4KICB5aWVsZCB7CiAgICByZXNwb25zZTogewogICAgICBhY3Rpb246ICdjb21wbGV0ZScsCiAgICB9CiAgfTsKfQoKc2NvcGUuZ29vZ2xlID0gc2NvcGUuZ29vZ2xlIHx8IHt9OwpzY29wZS5nb29nbGUuY29sYWIgPSBzY29wZS5nb29nbGUuY29sYWIgfHwge307CnNjb3BlLmdvb2dsZS5jb2xhYi5fZmlsZXMgPSB7CiAgX3VwbG9hZEZpbGVzLAogIF91cGxvYWRGaWxlc0NvbnRpbnVlLAp9Owp9KShzZWxmKTsK",
              "ok": true,
              "headers": [
                [
                  "content-type",
                  "application/javascript"
                ]
              ],
              "status": 200,
              "status_text": ""
            }
          },
          "base_uri": "https://localhost:8080/",
          "height": 73
        },
        "id": "TWCKdEB_TKm7",
        "outputId": "40599327-6d68-4323-9a73-0ed56e67b814"
      },
      "source": [
        "from google.colab import files\n",
        "data_to_load = files.upload()"
      ],
      "execution_count": null,
      "outputs": [
        {
          "output_type": "display_data",
          "data": {
            "text/html": [
              "\n",
              "     <input type=\"file\" id=\"files-65374709-04a3-44b3-a1a7-c334a92f4e8f\" name=\"files[]\" multiple disabled\n",
              "        style=\"border:none\" />\n",
              "     <output id=\"result-65374709-04a3-44b3-a1a7-c334a92f4e8f\">\n",
              "      Upload widget is only available when the cell has been executed in the\n",
              "      current browser session. Please rerun this cell to enable.\n",
              "      </output>\n",
              "      <script src=\"/nbextensions/google.colab/files.js\"></script> "
            ],
            "text/plain": [
              "<IPython.core.display.HTML object>"
            ]
          },
          "metadata": {
            "tags": []
          }
        },
        {
          "output_type": "stream",
          "text": [
            "Saving us-counties.csv to us-counties.csv\n"
          ],
          "name": "stdout"
        }
      ]
    },
    {
      "cell_type": "code",
      "metadata": {
        "id": "eeOImXNRWC_u"
      },
      "source": [
        "import io\n",
        "df = pd.read_csv(io.BytesIO(data_to_load['us-counties.csv']))"
      ],
      "execution_count": null,
      "outputs": []
    },
    {
      "cell_type": "code",
      "metadata": {
        "colab": {
          "base_uri": "https://localhost:8080/",
          "height": 355
        },
        "id": "FpyqN6z1WjOH",
        "outputId": "5b4dae48-5688-4cc4-a7c7-abeade55fa9d"
      },
      "source": [
        "\n",
        "df.head(10)"
      ],
      "execution_count": null,
      "outputs": [
        {
          "output_type": "execute_result",
          "data": {
            "text/html": [
              "<div>\n",
              "<style scoped>\n",
              "    .dataframe tbody tr th:only-of-type {\n",
              "        vertical-align: middle;\n",
              "    }\n",
              "\n",
              "    .dataframe tbody tr th {\n",
              "        vertical-align: top;\n",
              "    }\n",
              "\n",
              "    .dataframe thead th {\n",
              "        text-align: right;\n",
              "    }\n",
              "</style>\n",
              "<table border=\"1\" class=\"dataframe\">\n",
              "  <thead>\n",
              "    <tr style=\"text-align: right;\">\n",
              "      <th></th>\n",
              "      <th>date</th>\n",
              "      <th>county</th>\n",
              "      <th>state</th>\n",
              "      <th>fips</th>\n",
              "      <th>cases</th>\n",
              "      <th>deaths</th>\n",
              "    </tr>\n",
              "  </thead>\n",
              "  <tbody>\n",
              "    <tr>\n",
              "      <th>0</th>\n",
              "      <td>2020-01-21</td>\n",
              "      <td>Snohomish</td>\n",
              "      <td>Washington</td>\n",
              "      <td>53061.0</td>\n",
              "      <td>1</td>\n",
              "      <td>0.0</td>\n",
              "    </tr>\n",
              "    <tr>\n",
              "      <th>1</th>\n",
              "      <td>2020-01-22</td>\n",
              "      <td>Snohomish</td>\n",
              "      <td>Washington</td>\n",
              "      <td>53061.0</td>\n",
              "      <td>1</td>\n",
              "      <td>0.0</td>\n",
              "    </tr>\n",
              "    <tr>\n",
              "      <th>2</th>\n",
              "      <td>2020-01-23</td>\n",
              "      <td>Snohomish</td>\n",
              "      <td>Washington</td>\n",
              "      <td>53061.0</td>\n",
              "      <td>1</td>\n",
              "      <td>0.0</td>\n",
              "    </tr>\n",
              "    <tr>\n",
              "      <th>3</th>\n",
              "      <td>2020-01-24</td>\n",
              "      <td>Cook</td>\n",
              "      <td>Illinois</td>\n",
              "      <td>17031.0</td>\n",
              "      <td>1</td>\n",
              "      <td>0.0</td>\n",
              "    </tr>\n",
              "    <tr>\n",
              "      <th>4</th>\n",
              "      <td>2020-01-24</td>\n",
              "      <td>Snohomish</td>\n",
              "      <td>Washington</td>\n",
              "      <td>53061.0</td>\n",
              "      <td>1</td>\n",
              "      <td>0.0</td>\n",
              "    </tr>\n",
              "    <tr>\n",
              "      <th>5</th>\n",
              "      <td>2020-01-25</td>\n",
              "      <td>Orange</td>\n",
              "      <td>California</td>\n",
              "      <td>6059.0</td>\n",
              "      <td>1</td>\n",
              "      <td>0.0</td>\n",
              "    </tr>\n",
              "    <tr>\n",
              "      <th>6</th>\n",
              "      <td>2020-01-25</td>\n",
              "      <td>Cook</td>\n",
              "      <td>Illinois</td>\n",
              "      <td>17031.0</td>\n",
              "      <td>1</td>\n",
              "      <td>0.0</td>\n",
              "    </tr>\n",
              "    <tr>\n",
              "      <th>7</th>\n",
              "      <td>2020-01-25</td>\n",
              "      <td>Snohomish</td>\n",
              "      <td>Washington</td>\n",
              "      <td>53061.0</td>\n",
              "      <td>1</td>\n",
              "      <td>0.0</td>\n",
              "    </tr>\n",
              "    <tr>\n",
              "      <th>8</th>\n",
              "      <td>2020-01-26</td>\n",
              "      <td>Maricopa</td>\n",
              "      <td>Arizona</td>\n",
              "      <td>4013.0</td>\n",
              "      <td>1</td>\n",
              "      <td>0.0</td>\n",
              "    </tr>\n",
              "    <tr>\n",
              "      <th>9</th>\n",
              "      <td>2020-01-26</td>\n",
              "      <td>Los Angeles</td>\n",
              "      <td>California</td>\n",
              "      <td>6037.0</td>\n",
              "      <td>1</td>\n",
              "      <td>0.0</td>\n",
              "    </tr>\n",
              "  </tbody>\n",
              "</table>\n",
              "</div>"
            ],
            "text/plain": [
              "         date       county       state     fips  cases  deaths\n",
              "0  2020-01-21    Snohomish  Washington  53061.0      1     0.0\n",
              "1  2020-01-22    Snohomish  Washington  53061.0      1     0.0\n",
              "2  2020-01-23    Snohomish  Washington  53061.0      1     0.0\n",
              "3  2020-01-24         Cook    Illinois  17031.0      1     0.0\n",
              "4  2020-01-24    Snohomish  Washington  53061.0      1     0.0\n",
              "5  2020-01-25       Orange  California   6059.0      1     0.0\n",
              "6  2020-01-25         Cook    Illinois  17031.0      1     0.0\n",
              "7  2020-01-25    Snohomish  Washington  53061.0      1     0.0\n",
              "8  2020-01-26     Maricopa     Arizona   4013.0      1     0.0\n",
              "9  2020-01-26  Los Angeles  California   6037.0      1     0.0"
            ]
          },
          "metadata": {
            "tags": []
          },
          "execution_count": 18
        }
      ]
    },
    {
      "cell_type": "code",
      "metadata": {
        "colab": {
          "base_uri": "https://localhost:8080/"
        },
        "id": "c-ySXHs0Wxn7",
        "outputId": "950250c1-f008-45e9-ad89-b98e863f1367"
      },
      "source": [
        "# using createDataFrame we can covert pandas dataframe into pyspark\n",
        "sdf = sqlContext.createDataFrame(df)\n",
        "# similar to head we use show in pyspark\n",
        "# it takes two inputs; first (int) the number of rows to display and second (boolean) to truncate the data or not\n",
        "sdf.show(5)"
      ],
      "execution_count": null,
      "outputs": [
        {
          "output_type": "stream",
          "text": [
            "+----------+---------+----------+-------+-----+------+\n",
            "|      date|   county|     state|   fips|cases|deaths|\n",
            "+----------+---------+----------+-------+-----+------+\n",
            "|2020-01-21|Snohomish|Washington|53061.0|    1|   0.0|\n",
            "|2020-01-22|Snohomish|Washington|53061.0|    1|   0.0|\n",
            "|2020-01-23|Snohomish|Washington|53061.0|    1|   0.0|\n",
            "|2020-01-24|     Cook|  Illinois|17031.0|    1|   0.0|\n",
            "|2020-01-24|Snohomish|Washington|53061.0|    1|   0.0|\n",
            "+----------+---------+----------+-------+-----+------+\n",
            "only showing top 5 rows\n",
            "\n"
          ],
          "name": "stdout"
        }
      ]
    },
    {
      "cell_type": "code",
      "metadata": {
        "id": "jZ8WlNGJXc-D"
      },
      "source": [
        "# as mentioned above we can write SQL queries in pyspark\n",
        "# and to achieve so, we first have to save its schema into temporary tables (just an alias)\n",
        "# this creates a table with name 'covid_data'\n",
        "sdf.registerTempTable('covid_data')"
      ],
      "execution_count": null,
      "outputs": []
    },
    {
      "cell_type": "code",
      "metadata": {
        "colab": {
          "base_uri": "https://localhost:8080/"
        },
        "id": "qymmOfHsXdHI",
        "outputId": "06211143-bf33-46c3-ca76-dd3d162e0c7d"
      },
      "source": [
        "# to check the schema (columns & their data types)\n",
        "sdf.printSchema()\n"
      ],
      "execution_count": null,
      "outputs": [
        {
          "output_type": "stream",
          "text": [
            "root\n",
            " |-- date: string (nullable = true)\n",
            " |-- county: string (nullable = true)\n",
            " |-- state: string (nullable = true)\n",
            " |-- fips: double (nullable = true)\n",
            " |-- cases: long (nullable = true)\n",
            " |-- deaths: double (nullable = true)\n",
            "\n"
          ],
          "name": "stdout"
        }
      ]
    },
    {
      "cell_type": "code",
      "metadata": {
        "colab": {
          "base_uri": "https://localhost:8080/"
        },
        "id": "jKXcbu2hXtCy",
        "outputId": "24df9604-8502-42f5-f0d4-3f7ca34199bb"
      },
      "source": [
        "# to print the number of rows in the dataset\n",
        "sdf.count()"
      ],
      "execution_count": null,
      "outputs": [
        {
          "output_type": "execute_result",
          "data": {
            "text/plain": [
              "1167128"
            ]
          },
          "metadata": {
            "tags": []
          },
          "execution_count": 22
        }
      ]
    },
    {
      "cell_type": "code",
      "metadata": {
        "colab": {
          "base_uri": "https://localhost:8080/"
        },
        "id": "PmzEsuhRXxxY",
        "outputId": "15e458d4-1734-49b2-eac7-85bcec919df3"
      },
      "source": [
        "# to get the latest date available in the dataset\n",
        "# we use agg function to achieve the same\n",
        "latest_date = sdf.agg(F.max('date').alias('max_data'))\n",
        "latest_date.show()"
      ],
      "execution_count": null,
      "outputs": [
        {
          "output_type": "stream",
          "text": [
            "+----------+\n",
            "|  max_data|\n",
            "+----------+\n",
            "|2021-03-28|\n",
            "+----------+\n",
            "\n"
          ],
          "name": "stdout"
        }
      ]
    },
    {
      "cell_type": "code",
      "metadata": {
        "colab": {
          "base_uri": "https://localhost:8080/"
        },
        "id": "hUJWwq6_X5WE",
        "outputId": "947fb1c1-855e-4693-e47e-cbfe34ab61c9"
      },
      "source": [
        "# we can get the same results using the sql queries\n",
        "latest_date_sql = sqlContext.sql(\n",
        "    \"\"\" SELECT max(date) as max_data FROM covid_data\"\"\"\n",
        ")\n",
        "latest_date_sql.show()"
      ],
      "execution_count": null,
      "outputs": [
        {
          "output_type": "stream",
          "text": [
            "+----------+\n",
            "|  max_data|\n",
            "+----------+\n",
            "|2021-03-28|\n",
            "+----------+\n",
            "\n"
          ],
          "name": "stdout"
        }
      ]
    },
    {
      "cell_type": "code",
      "metadata": {
        "colab": {
          "base_uri": "https://localhost:8080/"
        },
        "id": "B21qFjXeYAoe",
        "outputId": "5c8bc369-df2c-49c8-f2ea-2382002dcf0d"
      },
      "source": [
        "# both ways we are returned a spark dataframe\n",
        "type(latest_date) "
      ],
      "execution_count": null,
      "outputs": [
        {
          "output_type": "execute_result",
          "data": {
            "text/plain": [
              "pyspark.sql.dataframe.DataFrame"
            ]
          },
          "metadata": {
            "tags": []
          },
          "execution_count": 25
        }
      ]
    },
    {
      "cell_type": "code",
      "metadata": {
        "colab": {
          "base_uri": "https://localhost:8080/"
        },
        "id": "FeiZivkYYdtj",
        "outputId": "d68b6935-2fa6-4265-a38c-fa1c5e1479dd"
      },
      "source": [
        "# to extract the value we use collect function\n",
        "# BUT, collect() should be only used on small data sizes as all the data is collected on the master node\n",
        "# since master nodes don't usually have such memory; it will fail (crash)\n",
        "latest_date = latest_date.collect()\n",
        "# the data returned is in the format of lists in lists to be more specific list of namedTuples\n",
        "# namedTuples are available in collections and we can access the values inside it by providing parameter-name\n",
        "latest_date"
      ],
      "execution_count": null,
      "outputs": [
        {
          "output_type": "execute_result",
          "data": {
            "text/plain": [
              "[Row(max_data='2021-03-28')]"
            ]
          },
          "metadata": {
            "tags": []
          },
          "execution_count": 26
        }
      ]
    },
    {
      "cell_type": "code",
      "metadata": {
        "colab": {
          "base_uri": "https://localhost:8080/",
          "height": 35
        },
        "id": "VVpqjJWeYd35",
        "outputId": "ef51d794-fe13-42a2-936a-619374ced3c6"
      },
      "source": [
        "# there is only single item in the list and we will refer it using index - 0\n",
        "# also, as mentioned above we can extract values from named tuple using the names of parameters/columns\n",
        "latest_date = latest_date[0]['max_data']\n",
        "latest_date"
      ],
      "execution_count": null,
      "outputs": [
        {
          "output_type": "execute_result",
          "data": {
            "application/vnd.google.colaboratory.intrinsic+json": {
              "type": "string"
            },
            "text/plain": [
              "'2021-03-28'"
            ]
          },
          "metadata": {
            "tags": []
          },
          "execution_count": 27
        }
      ]
    },
    {
      "cell_type": "code",
      "metadata": {
        "colab": {
          "base_uri": "https://localhost:8080/"
        },
        "id": "nhzU-w18Y1RP",
        "outputId": "d86a4b8f-a5a8-4e04-b30b-668bfb1c7b5b"
      },
      "source": [
        "# so the latest date avilable is 2020-04-13\n",
        "# now, we fill filter the data where this date is present\n",
        "sdf_filtered = sdf.where(\n",
        "    \"date = '{}'\".format(latest_date)\n",
        ")\n",
        "\n",
        "sdf_filtered.show(2)"
      ],
      "execution_count": null,
      "outputs": [
        {
          "output_type": "stream",
          "text": [
            "+----------+-------+-------+------+-----+------+\n",
            "|      date| county|  state|  fips|cases|deaths|\n",
            "+----------+-------+-------+------+-----+------+\n",
            "|2021-03-28|Autauga|Alabama|1001.0| 6570|  99.0|\n",
            "|2021-03-28|Baldwin|Alabama|1003.0|20473| 301.0|\n",
            "+----------+-------+-------+------+-----+------+\n",
            "only showing top 2 rows\n",
            "\n"
          ],
          "name": "stdout"
        }
      ]
    },
    {
      "cell_type": "code",
      "metadata": {
        "colab": {
          "base_uri": "https://localhost:8080/"
        },
        "id": "dSRD7-xoY1cb",
        "outputId": "e2e9be94-b892-401a-cf58-32d3faee14b3"
      },
      "source": [
        "# now lets check the number of records in the filtered data\n",
        "sdf_filtered.count()"
      ],
      "execution_count": null,
      "outputs": [
        {
          "output_type": "execute_result",
          "data": {
            "text/plain": [
              "3248"
            ]
          },
          "metadata": {
            "tags": []
          },
          "execution_count": 29
        }
      ]
    },
    {
      "cell_type": "code",
      "metadata": {
        "colab": {
          "base_uri": "https://localhost:8080/"
        },
        "id": "qBDjuNHDZDN1",
        "outputId": "1a917b91-1efa-4795-8d15-145c9586f28f"
      },
      "source": [
        "# I will be drawing parallels between the sql and pyspark for easy understanding\n",
        "# we can achieve the same using SQL and it is as follows\n",
        "latest_date_sql = sqlContext.sql(\n",
        "    \"\"\" SELECT * FROM covid_data WHERE date = '{}'\"\"\".format(latest_date)\n",
        ")\n",
        "latest_date_sql.show(10)\n"
      ],
      "execution_count": null,
      "outputs": [
        {
          "output_type": "stream",
          "text": [
            "+----------+--------+-------+------+-----+------+\n",
            "|      date|  county|  state|  fips|cases|deaths|\n",
            "+----------+--------+-------+------+-----+------+\n",
            "|2021-03-28| Autauga|Alabama|1001.0| 6570|  99.0|\n",
            "|2021-03-28| Baldwin|Alabama|1003.0|20473| 301.0|\n",
            "|2021-03-28| Barbour|Alabama|1005.0| 2226|  54.0|\n",
            "|2021-03-28|    Bibb|Alabama|1007.0| 2536|  58.0|\n",
            "|2021-03-28|  Blount|Alabama|1009.0| 6424| 131.0|\n",
            "|2021-03-28| Bullock|Alabama|1011.0| 1204|  39.0|\n",
            "|2021-03-28|  Butler|Alabama|1013.0| 2096|  66.0|\n",
            "|2021-03-28| Calhoun|Alabama|1015.0|14199| 304.0|\n",
            "|2021-03-28|Chambers|Alabama|1017.0| 3485| 116.0|\n",
            "|2021-03-28|Cherokee|Alabama|1019.0| 1804|  43.0|\n",
            "+----------+--------+-------+------+-----+------+\n",
            "only showing top 10 rows\n",
            "\n"
          ],
          "name": "stdout"
        }
      ]
    },
    {
      "cell_type": "code",
      "metadata": {
        "colab": {
          "base_uri": "https://localhost:8080/"
        },
        "id": "16YrGbOVZIcN",
        "outputId": "eba57d6f-ae42-4cc6-d467-d754a6bd4d35"
      },
      "source": [
        "# checking the count of the records\n",
        "latest_date_sql.count()"
      ],
      "execution_count": null,
      "outputs": [
        {
          "output_type": "execute_result",
          "data": {
            "text/plain": [
              "3248"
            ]
          },
          "metadata": {
            "tags": []
          },
          "execution_count": 31
        }
      ]
    },
    {
      "cell_type": "code",
      "metadata": {
        "colab": {
          "base_uri": "https://localhost:8080/"
        },
        "id": "i6KPAJSpZM2h",
        "outputId": "eabf79fe-5bab-4083-da04-609908d97258"
      },
      "source": [
        "# since we did not mention any grouping level this will return the statistics at overall level\n",
        "overall_stats = sdf_filtered.agg(\n",
        "    F.sum(\"cases\").alias(\"total_cases\"), # to sum the values in column 'cases'\n",
        "    F.sum(\"deaths\").alias(\"total_deaths\"),\n",
        "    F.count(\"*\").alias(\"number_of_records\"), # to count the number of records in the dataset\n",
        "    F.countDistinct(\"county\").alias(\"number_of_counties\"), # to get the distinct count of counties in column 'county'\n",
        "    F.countDistinct(\"state\").alias(\"number_of_states\")\n",
        ")\n",
        "\n",
        "overall_stats.show(1, False)"
      ],
      "execution_count": null,
      "outputs": [
        {
          "output_type": "stream",
          "text": [
            "+-----------+------------+-----------------+------------------+----------------+\n",
            "|total_cases|total_deaths|number_of_records|number_of_counties|number_of_states|\n",
            "+-----------+------------+-----------------+------------------+----------------+\n",
            "|30285475   |NaN         |3248             |1930              |55              |\n",
            "+-----------+------------+-----------------+------------------+----------------+\n",
            "\n"
          ],
          "name": "stdout"
        }
      ]
    },
    {
      "cell_type": "code",
      "metadata": {
        "colab": {
          "base_uri": "https://localhost:8080/"
        },
        "id": "2kLiKXVDZSDz",
        "outputId": "a08ef96a-ca66-4fbf-e2cb-1c697f1bc462"
      },
      "source": [
        "# sort the data at column-'county' and show top 10 records\n",
        "sdf_filtered.orderBy(\"county\").show(10, False)"
      ],
      "execution_count": null,
      "outputs": [
        {
          "output_type": "stream",
          "text": [
            "+----------+---------+--------------+-------+-----+------+\n",
            "|date      |county   |state         |fips   |cases|deaths|\n",
            "+----------+---------+--------------+-------+-----+------+\n",
            "|2021-03-28|Abbeville|South Carolina|45001.0|2418 |37.0  |\n",
            "|2021-03-28|Acadia   |Louisiana     |22001.0|6260 |188.0 |\n",
            "|2021-03-28|Accomack |Virginia      |51001.0|2703 |37.0  |\n",
            "|2021-03-28|Ada      |Idaho         |16001.0|48870|448.0 |\n",
            "|2021-03-28|Adair    |Kentucky      |21001.0|1769 |53.0  |\n",
            "|2021-03-28|Adair    |Oklahoma      |40001.0|3151 |26.0  |\n",
            "|2021-03-28|Adair    |Missouri      |29001.0|2395 |20.0  |\n",
            "|2021-03-28|Adair    |Iowa          |19001.0|836  |31.0  |\n",
            "|2021-03-28|Adams    |Colorado      |8001.0 |51972|640.0 |\n",
            "|2021-03-28|Adams    |Nebraska      |31001.0|2794 |38.0  |\n",
            "+----------+---------+--------------+-------+-----+------+\n",
            "only showing top 10 rows\n",
            "\n"
          ],
          "name": "stdout"
        }
      ]
    },
    {
      "cell_type": "code",
      "metadata": {
        "id": "pn3gONDdZSSP"
      },
      "source": [
        "# register the dataframe as a table\n",
        "sdf_filtered.registerTempTable(\"covid19_20200413\")"
      ],
      "execution_count": null,
      "outputs": []
    },
    {
      "cell_type": "code",
      "metadata": {
        "colab": {
          "base_uri": "https://localhost:8080/"
        },
        "id": "I2nMAZIVZamS",
        "outputId": "73efae69-3eda-492d-f316-5d4bf3d60c38"
      },
      "source": [
        "# achiving the same using SQL queries\n",
        "sqlContext.sql(\n",
        "    \"\"\"\n",
        "        SElECT\n",
        "            SUM(cases) as number_of_cases,\n",
        "            SUM(deaths) as number_of_deaths,\n",
        "            COUNT(*) as number_of_records,\n",
        "            COUNT(DISTINCT county) as number_of_counties,\n",
        "            COUNT(DISTINCT state) as number_of_states\n",
        "        FROM\n",
        "            covid19_20200413\n",
        "    \"\"\"\n",
        ").show(1, False)"
      ],
      "execution_count": null,
      "outputs": [
        {
          "output_type": "stream",
          "text": [
            "+---------------+----------------+-----------------+------------------+----------------+\n",
            "|number_of_cases|number_of_deaths|number_of_records|number_of_counties|number_of_states|\n",
            "+---------------+----------------+-----------------+------------------+----------------+\n",
            "|30285475       |NaN             |3248             |1930              |55              |\n",
            "+---------------+----------------+-----------------+------------------+----------------+\n",
            "\n"
          ],
          "name": "stdout"
        }
      ]
    },
    {
      "cell_type": "code",
      "metadata": {
        "colab": {
          "base_uri": "https://localhost:8080/"
        },
        "id": "pZsxd1tJZiNI",
        "outputId": "702d4351-28d5-4e32-f219-9b8c7e723889"
      },
      "source": [
        "# here, we are grouping the data at 'county' level and this will take sum of cases, states and others\n",
        "# and summarize it at 'county' level \n",
        "county_summary = sdf_filtered.groupBy(\n",
        "    \"county\"\n",
        ").agg(\n",
        "    F.sum(\"cases\").alias(\"total_cases\"),\n",
        "    F.sum(\"deaths\").alias(\"total_deaths\"),\n",
        "    F.count(\"*\").alias(\"number_of_records\"),\n",
        "    F.countDistinct(\"state\").alias(\"number_of_states\")\n",
        ")\n",
        "\n",
        "# order the county in alphabetical order and show top 20 records\n",
        "county_summary.orderBy(\"county\").show(20, False)"
      ],
      "execution_count": null,
      "outputs": [
        {
          "output_type": "stream",
          "text": [
            "+------------+-----------+------------+-----------------+----------------+\n",
            "|county      |total_cases|total_deaths|number_of_records|number_of_states|\n",
            "+------------+-----------+------------+-----------------+----------------+\n",
            "|Abbeville   |2418       |37.0        |1                |1               |\n",
            "|Acadia      |6260       |188.0       |1                |1               |\n",
            "|Accomack    |2703       |37.0        |1                |1               |\n",
            "|Ada         |48870      |448.0       |1                |1               |\n",
            "|Adair       |8151       |130.0       |4                |4               |\n",
            "|Adams       |83558      |1209.0      |12               |12              |\n",
            "|Addison     |901        |8.0         |1                |1               |\n",
            "|Adjuntas    |479        |NaN         |1                |1               |\n",
            "|Aguada      |1259       |NaN         |1                |1               |\n",
            "|Aguadilla   |1597       |NaN         |1                |1               |\n",
            "|Aguas Buenas|1063       |NaN         |1                |1               |\n",
            "|Aibonito    |615        |NaN         |1                |1               |\n",
            "|Aiken       |16456      |215.0       |1                |1               |\n",
            "|Aitkin      |1214       |36.0        |1                |1               |\n",
            "|Alachua     |23273      |258.0       |1                |1               |\n",
            "|Alamance    |16638      |239.0       |1                |1               |\n",
            "|Alameda     |83190      |1395.0      |1                |1               |\n",
            "|Alamosa     |1343       |29.0        |1                |1               |\n",
            "|Albany      |26379      |351.0       |2                |2               |\n",
            "|Albemarle   |5258       |76.0        |1                |1               |\n",
            "+------------+-----------+------------+-----------------+----------------+\n",
            "only showing top 20 rows\n",
            "\n"
          ],
          "name": "stdout"
        }
      ]
    },
    {
      "cell_type": "code",
      "metadata": {
        "colab": {
          "base_uri": "https://localhost:8080/"
        },
        "id": "Tjd1K0_bZosg",
        "outputId": "12493035-b84e-4058-f109-93b5e049ed37"
      },
      "source": [
        "# ideally for each county there should be no state with same name\n",
        "# so, here we are comparing the 'number_of_records' and 'number_of_states'\n",
        "# and filtering only those records where both does not match\n",
        "filtered_county_rec = county_summary.where(\n",
        "    F.col(\"number_of_records\") != F.col(\"number_of_states\")\n",
        ")\n",
        "\n",
        "# checking the count of filtered records\n",
        "# here count is zero - indicating that there are no duplicates\n",
        "filtered_county_rec.count()"
      ],
      "execution_count": null,
      "outputs": [
        {
          "output_type": "execute_result",
          "data": {
            "text/plain": [
              "0"
            ]
          },
          "metadata": {
            "tags": []
          },
          "execution_count": 37
        }
      ]
    },
    {
      "cell_type": "code",
      "metadata": {
        "colab": {
          "base_uri": "https://localhost:8080/"
        },
        "id": "rj7Him9AZxxZ",
        "outputId": "50c35e68-6618-4f47-ec22-aac11b03a554"
      },
      "source": [
        "# so the dataframe returned is empty - containing no rows\n",
        "filtered_county_rec.show()"
      ],
      "execution_count": null,
      "outputs": [
        {
          "output_type": "stream",
          "text": [
            "+------+-----------+------------+-----------------+----------------+\n",
            "|county|total_cases|total_deaths|number_of_records|number_of_states|\n",
            "+------+-----------+------------+-----------------+----------------+\n",
            "+------+-----------+------------+-----------------+----------------+\n",
            "\n"
          ],
          "name": "stdout"
        }
      ]
    },
    {
      "cell_type": "code",
      "metadata": {
        "colab": {
          "base_uri": "https://localhost:8080/"
        },
        "id": "r79l6aLlZzSl",
        "outputId": "8aa41b47-2026-4f9e-f2c6-58c99d111a2b"
      },
      "source": [
        "# achieving the same using SQL queries \n",
        "sqlContext.sql(\n",
        "    \"\"\"\n",
        "        SElECT\n",
        "            county,\n",
        "            SUM(cases) as number_of_cases,\n",
        "            SUM(deaths) as number_of_deaths,\n",
        "            COUNT(*) as number_of_records,\n",
        "            COUNT(DISTINCT state) as number_of_states\n",
        "        FROM\n",
        "            covid19_20200413\n",
        "        GROUP BY\n",
        "            county\n",
        "        ORDER BY\n",
        "            county\n",
        "    \"\"\"\n",
        ").show(10, False)"
      ],
      "execution_count": null,
      "outputs": [
        {
          "output_type": "stream",
          "text": [
            "+---------+---------------+----------------+-----------------+----------------+\n",
            "|county   |number_of_cases|number_of_deaths|number_of_records|number_of_states|\n",
            "+---------+---------------+----------------+-----------------+----------------+\n",
            "|Abbeville|2418           |37.0            |1                |1               |\n",
            "|Acadia   |6260           |188.0           |1                |1               |\n",
            "|Accomack |2703           |37.0            |1                |1               |\n",
            "|Ada      |48870          |448.0           |1                |1               |\n",
            "|Adair    |8151           |130.0           |4                |4               |\n",
            "|Adams    |83558          |1209.0          |12               |12              |\n",
            "|Addison  |901            |8.0             |1                |1               |\n",
            "|Adjuntas |479            |NaN             |1                |1               |\n",
            "|Aguada   |1259           |NaN             |1                |1               |\n",
            "|Aguadilla|1597           |NaN             |1                |1               |\n",
            "+---------+---------------+----------------+-----------------+----------------+\n",
            "only showing top 10 rows\n",
            "\n"
          ],
          "name": "stdout"
        }
      ]
    },
    {
      "cell_type": "code",
      "metadata": {
        "colab": {
          "base_uri": "https://localhost:8080/"
        },
        "id": "w2I5k9nAZ8cY",
        "outputId": "c5335f6b-a6c4-47e2-8f89-d6a8223e5b9c"
      },
      "source": [
        "# filter data for county - Adair & Addison and prepare our left_table\n",
        "left_table = county_summary.where(\n",
        "    \"county in ('Adair', 'Addison')\"\n",
        ")\n",
        "left_table.show(5, False)"
      ],
      "execution_count": null,
      "outputs": [
        {
          "output_type": "stream",
          "text": [
            "+-------+-----------+------------+-----------------+----------------+\n",
            "|county |total_cases|total_deaths|number_of_records|number_of_states|\n",
            "+-------+-----------+------------+-----------------+----------------+\n",
            "|Adair  |8151       |130.0       |4                |4               |\n",
            "|Addison|901        |8.0         |1                |1               |\n",
            "+-------+-----------+------------+-----------------+----------------+\n",
            "\n"
          ],
          "name": "stdout"
        }
      ]
    },
    {
      "cell_type": "code",
      "metadata": {
        "colab": {
          "base_uri": "https://localhost:8080/"
        },
        "id": "frnoHIVSaDaA",
        "outputId": "2c34d61e-a973-44c0-b903-7f32f8178ed4"
      },
      "source": [
        "# filter data for county - Ada & Accomack and prepare our right_table\n",
        "right_table = county_summary.where(\n",
        "    \"county in ('Ada', 'Accomack')\"\n",
        ")\n",
        "right_table.show(5, False)"
      ],
      "execution_count": null,
      "outputs": [
        {
          "output_type": "stream",
          "text": [
            "+--------+-----------+------------+-----------------+----------------+\n",
            "|county  |total_cases|total_deaths|number_of_records|number_of_states|\n",
            "+--------+-----------+------------+-----------------+----------------+\n",
            "|Accomack|2703       |37.0        |1                |1               |\n",
            "|Ada     |48870      |448.0       |1                |1               |\n",
            "+--------+-----------+------------+-----------------+----------------+\n",
            "\n"
          ],
          "name": "stdout"
        }
      ]
    },
    {
      "cell_type": "code",
      "metadata": {
        "colab": {
          "base_uri": "https://localhost:8080/"
        },
        "id": "_WMGRg8YaG_z",
        "outputId": "8ff0c6c2-1466-4d69-95c5-fef01554232d"
      },
      "source": [
        "# applying inner join\n",
        "# county_summary contains all the counties and their statistics\n",
        "inner_table = county_summary.join(\n",
        "    left_table,\n",
        "    on=[\"county\"],\n",
        "    how=\"inner\"\n",
        ")\n",
        "\n",
        "inner_table.show(100, False)"
      ],
      "execution_count": null,
      "outputs": [
        {
          "output_type": "stream",
          "text": [
            "+-------+-----------+------------+-----------------+----------------+-----------+------------+-----------------+----------------+\n",
            "|county |total_cases|total_deaths|number_of_records|number_of_states|total_cases|total_deaths|number_of_records|number_of_states|\n",
            "+-------+-----------+------------+-----------------+----------------+-----------+------------+-----------------+----------------+\n",
            "|Adair  |8151       |130.0       |4                |4               |8151       |130.0       |4                |4               |\n",
            "|Addison|901        |8.0         |1                |1               |901        |8.0         |1                |1               |\n",
            "+-------+-----------+------------+-----------------+----------------+-----------+------------+-----------------+----------------+\n",
            "\n"
          ],
          "name": "stdout"
        }
      ]
    },
    {
      "cell_type": "code",
      "metadata": {
        "colab": {
          "base_uri": "https://localhost:8080/"
        },
        "id": "yg3tIlLmaNrP",
        "outputId": "94cc6d5a-07df-46ce-f472-4d47f02b4615"
      },
      "source": [
        "# applying left join\n",
        "left_table_joined = left_table.join(\n",
        "    right_table,\n",
        "    on=[\"county\"],\n",
        "    how=\"left\"\n",
        ")\n",
        "\n",
        "left_table_joined.show(100, False)"
      ],
      "execution_count": null,
      "outputs": [
        {
          "output_type": "stream",
          "text": [
            "+-------+-----------+------------+-----------------+----------------+-----------+------------+-----------------+----------------+\n",
            "|county |total_cases|total_deaths|number_of_records|number_of_states|total_cases|total_deaths|number_of_records|number_of_states|\n",
            "+-------+-----------+------------+-----------------+----------------+-----------+------------+-----------------+----------------+\n",
            "|Adair  |8151       |130.0       |4                |4               |null       |null        |null             |null            |\n",
            "|Addison|901        |8.0         |1                |1               |null       |null        |null             |null            |\n",
            "+-------+-----------+------------+-----------------+----------------+-----------+------------+-----------------+----------------+\n",
            "\n"
          ],
          "name": "stdout"
        }
      ]
    },
    {
      "cell_type": "code",
      "metadata": {
        "colab": {
          "base_uri": "https://localhost:8080/"
        },
        "id": "bUmOxOafaWAH",
        "outputId": "41fc498c-cf49-4f3d-ad06-efff08a45da7"
      },
      "source": [
        "# applying right join\n",
        "right_table_joined = left_table.join(\n",
        "    right_table,\n",
        "    on=[\"county\"],\n",
        "    how=\"right\"\n",
        ")\n",
        "\n",
        "right_table_joined.show(100, False)"
      ],
      "execution_count": null,
      "outputs": [
        {
          "output_type": "stream",
          "text": [
            "+--------+-----------+------------+-----------------+----------------+-----------+------------+-----------------+----------------+\n",
            "|county  |total_cases|total_deaths|number_of_records|number_of_states|total_cases|total_deaths|number_of_records|number_of_states|\n",
            "+--------+-----------+------------+-----------------+----------------+-----------+------------+-----------------+----------------+\n",
            "|Accomack|null       |null        |null             |null            |2703       |37.0        |1                |1               |\n",
            "|Ada     |null       |null        |null             |null            |48870      |448.0       |1                |1               |\n",
            "+--------+-----------+------------+-----------------+----------------+-----------+------------+-----------------+----------------+\n",
            "\n"
          ],
          "name": "stdout"
        }
      ]
    },
    {
      "cell_type": "code",
      "metadata": {
        "colab": {
          "base_uri": "https://localhost:8080/"
        },
        "id": "wHOjvuY-aaO-",
        "outputId": "354f07cf-19a0-47f5-9e2f-2e4cf067abd1"
      },
      "source": [
        "# applying outer join or full join\n",
        "outer_table_joined = left_table.join(\n",
        "    right_table,\n",
        "    on=[\"county\"],\n",
        "    how=\"outer\"\n",
        ")\n",
        "\n",
        "outer_table_joined.show(100, False)"
      ],
      "execution_count": null,
      "outputs": [
        {
          "output_type": "stream",
          "text": [
            "+--------+-----------+------------+-----------------+----------------+-----------+------------+-----------------+----------------+\n",
            "|county  |total_cases|total_deaths|number_of_records|number_of_states|total_cases|total_deaths|number_of_records|number_of_states|\n",
            "+--------+-----------+------------+-----------------+----------------+-----------+------------+-----------------+----------------+\n",
            "|Accomack|null       |null        |null             |null            |2703       |37.0        |1                |1               |\n",
            "|Adair   |8151       |130.0       |4                |4               |null       |null        |null             |null            |\n",
            "|Ada     |null       |null        |null             |null            |48870      |448.0       |1                |1               |\n",
            "|Addison |901        |8.0         |1                |1               |null       |null        |null             |null            |\n",
            "+--------+-----------+------------+-----------------+----------------+-----------+------------+-----------------+----------------+\n",
            "\n"
          ],
          "name": "stdout"
        }
      ]
    },
    {
      "cell_type": "code",
      "metadata": {
        "colab": {
          "base_uri": "https://localhost:8080/"
        },
        "id": "FPcyoWSRafUF",
        "outputId": "f59c8932-123a-4e30-9ce1-66f2ebe472d0"
      },
      "source": [
        "# get percentage # of cases for each state in Adair\n",
        "# filter data for county - Adair\n",
        "adir_overall = county_summary.where(\n",
        "    \"county in ('Adair')\"\n",
        ")\n",
        "adir_overall.show(5, False)"
      ],
      "execution_count": null,
      "outputs": [
        {
          "output_type": "stream",
          "text": [
            "+------+-----------+------------+-----------------+----------------+\n",
            "|county|total_cases|total_deaths|number_of_records|number_of_states|\n",
            "+------+-----------+------------+-----------------+----------------+\n",
            "|Adair |8151       |130.0       |4                |4               |\n",
            "+------+-----------+------------+-----------------+----------------+\n",
            "\n"
          ],
          "name": "stdout"
        }
      ]
    },
    {
      "cell_type": "code",
      "metadata": {
        "colab": {
          "base_uri": "https://localhost:8080/"
        },
        "id": "6LocY7Oaahq2",
        "outputId": "039a0c11-1c58-442d-9e35-e3a33d6a9594"
      },
      "source": [
        "# join the Adair summary to its states\n",
        "perc_cases_statewise = sdf_filtered.join(\n",
        "    adir_overall,\n",
        "    on=\"county\",\n",
        "    how=\"inner\"\n",
        ")\n",
        "\n",
        "perc_cases_statewise.show(10, False)"
      ],
      "execution_count": null,
      "outputs": [
        {
          "output_type": "stream",
          "text": [
            "+------+----------+--------+-------+-----+------+-----------+------------+-----------------+----------------+\n",
            "|county|date      |state   |fips   |cases|deaths|total_cases|total_deaths|number_of_records|number_of_states|\n",
            "+------+----------+--------+-------+-----+------+-----------+------------+-----------------+----------------+\n",
            "|Adair |2021-03-28|Iowa    |19001.0|836  |31.0  |8151       |130.0       |4                |4               |\n",
            "|Adair |2021-03-28|Kentucky|21001.0|1769 |53.0  |8151       |130.0       |4                |4               |\n",
            "|Adair |2021-03-28|Missouri|29001.0|2395 |20.0  |8151       |130.0       |4                |4               |\n",
            "|Adair |2021-03-28|Oklahoma|40001.0|3151 |26.0  |8151       |130.0       |4                |4               |\n",
            "+------+----------+--------+-------+-----+------+-----------+------------+-----------------+----------------+\n",
            "\n"
          ],
          "name": "stdout"
        }
      ]
    },
    {
      "cell_type": "code",
      "metadata": {
        "colab": {
          "base_uri": "https://localhost:8080/"
        },
        "id": "JIYQWj9same1",
        "outputId": "c0200e69-fe0b-4677-97e3-43f242284728"
      },
      "source": [
        "# calculate percentage of cases and deaths\n",
        "perc_cases_statewise = perc_cases_statewise.withColumn(\n",
        "    \"perc_cases\",\n",
        "    F.col(\"cases\")/F.col(\"total_cases\")\n",
        ").withColumn(\n",
        "    \"perc_deaths\",\n",
        "    F.col(\"deaths\")/F.col(\"total_deaths\")\n",
        ")\n",
        "\n",
        "perc_cases_statewise.show(10, False)"
      ],
      "execution_count": null,
      "outputs": [
        {
          "output_type": "stream",
          "text": [
            "+------+----------+--------+-------+-----+------+-----------+------------+-----------------+----------------+-------------------+-------------------+\n",
            "|county|date      |state   |fips   |cases|deaths|total_cases|total_deaths|number_of_records|number_of_states|perc_cases         |perc_deaths        |\n",
            "+------+----------+--------+-------+-----+------+-----------+------------+-----------------+----------------+-------------------+-------------------+\n",
            "|Adair |2021-03-28|Iowa    |19001.0|836  |31.0  |8151       |130.0       |4                |4               |0.10256410256410256|0.23846153846153847|\n",
            "|Adair |2021-03-28|Kentucky|21001.0|1769 |53.0  |8151       |130.0       |4                |4               |0.21702858544963807|0.4076923076923077 |\n",
            "|Adair |2021-03-28|Missouri|29001.0|2395 |20.0  |8151       |130.0       |4                |4               |0.29382897803950436|0.15384615384615385|\n",
            "|Adair |2021-03-28|Oklahoma|40001.0|3151 |26.0  |8151       |130.0       |4                |4               |0.386578333946755  |0.2                |\n",
            "+------+----------+--------+-------+-----+------+-----------+------------+-----------------+----------------+-------------------+-------------------+\n",
            "\n"
          ],
          "name": "stdout"
        }
      ]
    },
    {
      "cell_type": "code",
      "metadata": {
        "id": "c8Hcdn6Kauxf"
      },
      "source": [
        "# this is required to apply parition by clause\n",
        "from pyspark.sql.window import Window"
      ],
      "execution_count": null,
      "outputs": []
    },
    {
      "cell_type": "code",
      "metadata": {
        "colab": {
          "base_uri": "https://localhost:8080/"
        },
        "id": "uuJG-6WhazMq",
        "outputId": "827db080-45c5-4f62-befb-08ae9e2b174d"
      },
      "source": [
        "# let's print out few records to check the structure of the dataframe\n",
        "county_summary.show(2, False)"
      ],
      "execution_count": null,
      "outputs": [
        {
          "output_type": "stream",
          "text": [
            "+--------------+-----------+------------+-----------------+----------------+\n",
            "|county        |total_cases|total_deaths|number_of_records|number_of_states|\n",
            "+--------------+-----------+------------+-----------------+----------------+\n",
            "|Worcester     |73257      |2236.0      |2                |2               |\n",
            "|East Feliciana|3071       |111.0       |1                |1               |\n",
            "+--------------+-----------+------------+-----------------+----------------+\n",
            "only showing top 2 rows\n",
            "\n"
          ],
          "name": "stdout"
        }
      ]
    },
    {
      "cell_type": "code",
      "metadata": {
        "id": "kSFE_wuja36A"
      },
      "source": [
        "# we will create a new column and store the new dataframe as county_summary_ranked\n",
        "# withColumn is used to create new columns; where first parameter is the column name and second the values for the column\n",
        "county_summary_ranked = county_summary.withColumn(\n",
        "    \"rank\", # column name\n",
        "    # rank function assigns a rank starting from 1 and orderBy condition mentions that rank will be based on the column - total_cases\n",
        "    # by default the sorting is done in ascending order\n",
        "    F.rank().over(Window.orderBy(\"total_cases\")) \n",
        ")\n",
        "\n",
        "# print out some of the records\n",
        "county_summary_ranked.show(5, False)"
      ],
      "execution_count": null,
      "outputs": []
    },
    {
      "cell_type": "code",
      "metadata": {
        "colab": {
          "base_uri": "https://localhost:8080/"
        },
        "id": "mTz2yehKbAHX",
        "outputId": "9a3b55e4-87ad-420e-c624-dc337c34432c"
      },
      "source": [
        "county_summary_ranked = county_summary_ranked.withColumn(\n",
        "    \"rank_desc\",\n",
        "    # if we want high end values to be assigned the lower rank, we sort the data in descending order using F.desc function\n",
        "    F.rank().over(Window.orderBy(F.desc(\"total_cases\")))\n",
        ")\n",
        "\n",
        "# also, let's order the data by total_cases in descending order\n",
        "county_summary_ranked.orderBy(\"total_cases\", ascending=False).show(5, False)"
      ],
      "execution_count": null,
      "outputs": [
        {
          "output_type": "stream",
          "text": [
            "+-------------+-----------+------------+-----------------+----------------+----+---------+\n",
            "|county       |total_cases|total_deaths|number_of_records|number_of_states|rank|rank_desc|\n",
            "+-------------+-----------+------------+-----------------+----------------+----+---------+\n",
            "|Los Angeles  |1218879    |23103.0     |1                |1               |1930|1        |\n",
            "|New York City|834198     |31026.0     |1                |1               |1929|2        |\n",
            "|Maricopa     |523424     |9644.0      |1                |1               |1928|3        |\n",
            "|Cook         |496963     |10230.0     |3                |3               |1927|4        |\n",
            "|Orange       |451640     |6891.0      |8                |8               |1926|5        |\n",
            "+-------------+-----------+------------+-----------------+----------------+----+---------+\n",
            "only showing top 5 rows\n",
            "\n"
          ],
          "name": "stdout"
        }
      ]
    },
    {
      "cell_type": "code",
      "metadata": {
        "id": "_QxVa4GhbFYt"
      },
      "source": [
        "#Now, we will create the rank for the states for each of the county seperately\n",
        "#This means, we will seperate the data for each county and will run the rank function like above for each of those partitions seperately. So, in each county there will be a state given rank-1"
      ],
      "execution_count": null,
      "outputs": []
    },
    {
      "cell_type": "code",
      "metadata": {
        "colab": {
          "base_uri": "https://localhost:8080/"
        },
        "id": "XsmfThGdbL2o",
        "outputId": "994c3935-b507-4605-8672-f0714fd47b5a"
      },
      "source": [
        "# to achieve this we will use the state level dataset containing the data for the latest date\n",
        "sdf_filtered.show(2, False)\n",
        "\n",
        "# also, let's check the count\n",
        "sdf_filtered.count()"
      ],
      "execution_count": null,
      "outputs": [
        {
          "output_type": "stream",
          "text": [
            "+----------+-------+-------+------+-----+------+\n",
            "|date      |county |state  |fips  |cases|deaths|\n",
            "+----------+-------+-------+------+-----+------+\n",
            "|2021-03-28|Autauga|Alabama|1001.0|6570 |99.0  |\n",
            "|2021-03-28|Baldwin|Alabama|1003.0|20473|301.0 |\n",
            "+----------+-------+-------+------+-----+------+\n",
            "only showing top 2 rows\n",
            "\n"
          ],
          "name": "stdout"
        },
        {
          "output_type": "execute_result",
          "data": {
            "text/plain": [
              "3248"
            ]
          },
          "metadata": {
            "tags": []
          },
          "execution_count": 54
        }
      ]
    },
    {
      "cell_type": "code",
      "metadata": {
        "colab": {
          "base_uri": "https://localhost:8080/"
        },
        "id": "YhVcAs3IbQ20",
        "outputId": "abb27bee-0219-4e79-f4b9-ac60c3b5d770"
      },
      "source": [
        "# we will create a new dataframe - ranked_states\n",
        "ranked_states = sdf_filtered.withColumn(\n",
        "    \"state_rank\",\n",
        "    # now we will also specify the partition clause - telling it to create rank for each of those county seperately\n",
        "    F.rank().over(Window.partitionBy(\"county\").orderBy(F.desc(\"cases\")))\n",
        ")\n",
        "\n",
        "# show top 30 records ordered on county and state_rank\n",
        "ranked_states.orderBy(\"county\", \"state_rank\").show(30, False)"
      ],
      "execution_count": null,
      "outputs": [
        {
          "output_type": "stream",
          "text": [
            "+----------+------------+--------------+-------+-----+------+----------+\n",
            "|date      |county      |state         |fips   |cases|deaths|state_rank|\n",
            "+----------+------------+--------------+-------+-----+------+----------+\n",
            "|2021-03-28|Abbeville   |South Carolina|45001.0|2418 |37.0  |1         |\n",
            "|2021-03-28|Acadia      |Louisiana     |22001.0|6260 |188.0 |1         |\n",
            "|2021-03-28|Accomack    |Virginia      |51001.0|2703 |37.0  |1         |\n",
            "|2021-03-28|Ada         |Idaho         |16001.0|48870|448.0 |1         |\n",
            "|2021-03-28|Adair       |Oklahoma      |40001.0|3151 |26.0  |1         |\n",
            "|2021-03-28|Adair       |Missouri      |29001.0|2395 |20.0  |2         |\n",
            "|2021-03-28|Adair       |Kentucky      |21001.0|1769 |53.0  |3         |\n",
            "|2021-03-28|Adair       |Iowa          |19001.0|836  |31.0  |4         |\n",
            "|2021-03-28|Adams       |Colorado      |8001.0 |51972|640.0 |1         |\n",
            "|2021-03-28|Adams       |Illinois      |17001.0|8075 |144.0 |2         |\n",
            "|2021-03-28|Adams       |Pennsylvania  |42001.0|7988 |159.0 |3         |\n",
            "|2021-03-28|Adams       |Indiana       |18001.0|3384 |52.0  |4         |\n",
            "|2021-03-28|Adams       |Nebraska      |31001.0|2794 |38.0  |5         |\n",
            "|2021-03-28|Adams       |Mississippi   |28001.0|2413 |81.0  |6         |\n",
            "|2021-03-28|Adams       |Ohio          |39001.0|2236 |47.0  |7         |\n",
            "|2021-03-28|Adams       |Washington    |53001.0|1985 |22.0  |8         |\n",
            "|2021-03-28|Adams       |Wisconsin     |55001.0|1788 |15.0  |9         |\n",
            "|2021-03-28|Adams       |Idaho         |16003.0|336  |4.0   |10        |\n",
            "|2021-03-28|Adams       |Iowa          |19003.0|319  |4.0   |11        |\n",
            "|2021-03-28|Adams       |North Dakota  |38001.0|268  |3.0   |12        |\n",
            "|2021-03-28|Addison     |Vermont       |50001.0|901  |8.0   |1         |\n",
            "|2021-03-28|Adjuntas    |Puerto Rico   |72001.0|479  |NaN   |1         |\n",
            "|2021-03-28|Aguada      |Puerto Rico   |72003.0|1259 |NaN   |1         |\n",
            "|2021-03-28|Aguadilla   |Puerto Rico   |72005.0|1597 |NaN   |1         |\n",
            "|2021-03-28|Aguas Buenas|Puerto Rico   |72007.0|1063 |NaN   |1         |\n",
            "|2021-03-28|Aibonito    |Puerto Rico   |72009.0|615  |NaN   |1         |\n",
            "|2021-03-28|Aiken       |South Carolina|45003.0|16456|215.0 |1         |\n",
            "|2021-03-28|Aitkin      |Minnesota     |27001.0|1214 |36.0  |1         |\n",
            "|2021-03-28|Alachua     |Florida       |12001.0|23273|258.0 |1         |\n",
            "|2021-03-28|Alamance    |North Carolina|37001.0|16638|239.0 |1         |\n",
            "+----------+------------+--------------+-------+-----+------+----------+\n",
            "only showing top 30 rows\n",
            "\n"
          ],
          "name": "stdout"
        }
      ]
    },
    {
      "cell_type": "markdown",
      "metadata": {
        "id": "NXtT1kBtbb1l"
      },
      "source": [
        "As we can see above state having the highest cases in each county has been given the lowest rank (1)"
      ]
    },
    {
      "cell_type": "code",
      "metadata": {
        "colab": {
          "base_uri": "https://localhost:8080/"
        },
        "id": "HyYTMmaabdWU",
        "outputId": "883eb8cd-a6ef-451b-bac6-455dff9e8481"
      },
      "source": [
        "# now, let's filter out only the top state for each of the county\n",
        "ranked_states_filtered = ranked_states.filter(\n",
        "    # since, the top state has been assigned rank-1, we can filter states where state_rank is 1\n",
        "    \"state_rank = 1\"\n",
        ")\n",
        "\n",
        "# let's check the count which should be equal to the number of counties in the dataset\n",
        "ranked_states_filtered.count()"
      ],
      "execution_count": null,
      "outputs": [
        {
          "output_type": "execute_result",
          "data": {
            "text/plain": [
              "1930"
            ]
          },
          "metadata": {
            "tags": []
          },
          "execution_count": 56
        }
      ]
    },
    {
      "cell_type": "code",
      "metadata": {
        "colab": {
          "base_uri": "https://localhost:8080/"
        },
        "id": "u0txdRhbbiba",
        "outputId": "4bb57332-ddb2-4fec-923c-45663728292b"
      },
      "source": [
        "# also, let's check the results\n",
        "ranked_states_filtered.orderBy(\"county\", \"state_rank\").show(50, False)"
      ],
      "execution_count": null,
      "outputs": [
        {
          "output_type": "stream",
          "text": [
            "+----------+--------------------------+--------------+-------+-----+------+----------+\n",
            "|date      |county                    |state         |fips   |cases|deaths|state_rank|\n",
            "+----------+--------------------------+--------------+-------+-----+------+----------+\n",
            "|2021-03-28|Abbeville                 |South Carolina|45001.0|2418 |37.0  |1         |\n",
            "|2021-03-28|Acadia                    |Louisiana     |22001.0|6260 |188.0 |1         |\n",
            "|2021-03-28|Accomack                  |Virginia      |51001.0|2703 |37.0  |1         |\n",
            "|2021-03-28|Ada                       |Idaho         |16001.0|48870|448.0 |1         |\n",
            "|2021-03-28|Adair                     |Oklahoma      |40001.0|3151 |26.0  |1         |\n",
            "|2021-03-28|Adams                     |Colorado      |8001.0 |51972|640.0 |1         |\n",
            "|2021-03-28|Addison                   |Vermont       |50001.0|901  |8.0   |1         |\n",
            "|2021-03-28|Adjuntas                  |Puerto Rico   |72001.0|479  |NaN   |1         |\n",
            "|2021-03-28|Aguada                    |Puerto Rico   |72003.0|1259 |NaN   |1         |\n",
            "|2021-03-28|Aguadilla                 |Puerto Rico   |72005.0|1597 |NaN   |1         |\n",
            "|2021-03-28|Aguas Buenas              |Puerto Rico   |72007.0|1063 |NaN   |1         |\n",
            "|2021-03-28|Aibonito                  |Puerto Rico   |72009.0|615  |NaN   |1         |\n",
            "|2021-03-28|Aiken                     |South Carolina|45003.0|16456|215.0 |1         |\n",
            "|2021-03-28|Aitkin                    |Minnesota     |27001.0|1214 |36.0  |1         |\n",
            "|2021-03-28|Alachua                   |Florida       |12001.0|23273|258.0 |1         |\n",
            "|2021-03-28|Alamance                  |North Carolina|37001.0|16638|239.0 |1         |\n",
            "|2021-03-28|Alameda                   |California    |6001.0 |83190|1395.0|1         |\n",
            "|2021-03-28|Alamosa                   |Colorado      |8003.0 |1343 |29.0  |1         |\n",
            "|2021-03-28|Albany                    |New York      |36001.0|22418|340.0 |1         |\n",
            "|2021-03-28|Albemarle                 |Virginia      |51003.0|5258 |76.0  |1         |\n",
            "|2021-03-28|Alcona                    |Michigan      |26001.0|459  |25.0  |1         |\n",
            "|2021-03-28|Alcorn                    |Mississippi   |28003.0|2949 |63.0  |1         |\n",
            "|2021-03-28|Aleutians East Borough    |Alaska        |2013.0 |363  |2.0   |1         |\n",
            "|2021-03-28|Aleutians West Census Area|Alaska        |2016.0 |650  |0.0   |1         |\n",
            "|2021-03-28|Alexander                 |North Carolina|37003.0|4080 |82.0  |1         |\n",
            "|2021-03-28|Alexandria city           |Virginia      |51510.0|10894|128.0 |1         |\n",
            "|2021-03-28|Alfalfa                   |Oklahoma      |40003.0|1151 |5.0   |1         |\n",
            "|2021-03-28|Alger                     |Michigan      |26003.0|594  |5.0   |1         |\n",
            "|2021-03-28|Allamakee                 |Iowa          |19005.0|1483 |49.0  |1         |\n",
            "|2021-03-28|Allegan                   |Michigan      |26005.0|8048 |118.0 |1         |\n",
            "|2021-03-28|Allegany                  |Maryland      |24001.0|6500 |202.0 |1         |\n",
            "|2021-03-28|Alleghany                 |Virginia      |51005.0|1272 |49.0  |1         |\n",
            "|2021-03-28|Allegheny                 |Pennsylvania  |42003.0|84522|1801.0|1         |\n",
            "|2021-03-28|Allen                     |Indiana       |18003.0|37634|683.0 |1         |\n",
            "|2021-03-28|Allendale                 |South Carolina|45005.0|889  |15.0  |1         |\n",
            "|2021-03-28|Alpena                    |Michigan      |26007.0|1575 |48.0  |1         |\n",
            "|2021-03-28|Alpine                    |California    |6003.0 |85   |0.0   |1         |\n",
            "|2021-03-28|Amador                    |California    |6005.0 |3537 |45.0  |1         |\n",
            "|2021-03-28|Amelia                    |Virginia      |51007.0|818  |28.0  |1         |\n",
            "|2021-03-28|Amherst                   |Virginia      |51009.0|2781 |33.0  |1         |\n",
            "|2021-03-28|Amite                     |Mississippi   |28005.0|1178 |37.0  |1         |\n",
            "|2021-03-28|Anasco                    |Puerto Rico   |72011.0|846  |NaN   |1         |\n",
            "|2021-03-28|Anchorage                 |Alaska        |2020.0 |27915|161.0 |1         |\n",
            "|2021-03-28|Anderson                  |South Carolina|45007.0|21630|495.0 |1         |\n",
            "|2021-03-28|Andrew                    |Missouri      |29003.0|1862 |18.0  |1         |\n",
            "|2021-03-28|Andrews                   |Texas         |48003.0|1739 |47.0  |1         |\n",
            "|2021-03-28|Androscoggin              |Maine         |23001.0|5234 |59.0  |1         |\n",
            "|2021-03-28|Angelina                  |Texas         |48005.0|8186 |268.0 |1         |\n",
            "|2021-03-28|Anne Arundel              |Maryland      |24003.0|38586|562.0 |1         |\n",
            "|2021-03-28|Anoka                     |Minnesota     |27003.0|35192|405.0 |1         |\n",
            "+----------+--------------------------+--------------+-------+-----+------+----------+\n",
            "only showing top 50 rows\n",
            "\n"
          ],
          "name": "stdout"
        }
      ]
    },
    {
      "cell_type": "markdown",
      "metadata": {
        "id": "bRyKXFgpbynK"
      },
      "source": [
        "We can also parameterize the window statements and use it where-ever required, instead of re-writing them again and again"
      ]
    },
    {
      "cell_type": "code",
      "metadata": {
        "id": "JKkncIpPb0Ll"
      },
      "source": [
        "# assigning the parition by clause in a variable - w\n",
        "partition_clause = Window.partitionBy(\"county\")\n"
      ],
      "execution_count": null,
      "outputs": []
    },
    {
      "cell_type": "code",
      "metadata": {
        "colab": {
          "base_uri": "https://localhost:8080/"
        },
        "id": "GeAhbY-2b5YY",
        "outputId": "c127cacb-a6e8-4138-d122-c8e2c9b63f38"
      },
      "source": [
        "# let's now get the total, average and maximum county cases across each of their respective states\n",
        "# we can use .withColumn in a chain format, that is one after the other and all are executed in a sequential order\n",
        "ranked_states = ranked_states.withColumn(\n",
        "    \"country_total_cases\",\n",
        "    # we will use the parition_clause we created above\n",
        "    F.sum(\"cases\").over(partition_clause)\n",
        ").withColumn(\n",
        "    # here we are calculating the % of cases in a state i.e. state_cases/respective_county_cases\n",
        "    \"perc_total_cases\",\n",
        "    F.col(\"cases\")/F.col(\"country_total_cases\")\n",
        ").withColumn(\n",
        "    \"country_avg_cases\",\n",
        "    # get county average cases\n",
        "    F.avg(\"cases\").over(partition_clause)\n",
        ").withColumn(\n",
        "    # get county max caaes\n",
        "    \"country_max_cases\",\n",
        "    F.max(\"cases\").over(partition_clause)\n",
        ")\n",
        "\n",
        "# now, let's print out the results\n",
        "ranked_states.orderBy(\"county\", \"perc_total_cases\").show(50, False)"
      ],
      "execution_count": null,
      "outputs": [
        {
          "output_type": "stream",
          "text": [
            "+----------+--------------------------+--------------+-------+-----+------+----------+-------------------+---------------------+-----------------+-----------------+\n",
            "|date      |county                    |state         |fips   |cases|deaths|state_rank|country_total_cases|perc_total_cases     |country_avg_cases|country_max_cases|\n",
            "+----------+--------------------------+--------------+-------+-----+------+----------+-------------------+---------------------+-----------------+-----------------+\n",
            "|2021-03-28|Abbeville                 |South Carolina|45001.0|2418 |37.0  |1         |2418               |1.0                  |2418.0           |2418             |\n",
            "|2021-03-28|Acadia                    |Louisiana     |22001.0|6260 |188.0 |1         |6260               |1.0                  |6260.0           |6260             |\n",
            "|2021-03-28|Accomack                  |Virginia      |51001.0|2703 |37.0  |1         |2703               |1.0                  |2703.0           |2703             |\n",
            "|2021-03-28|Ada                       |Idaho         |16001.0|48870|448.0 |1         |48870              |1.0                  |48870.0          |48870            |\n",
            "|2021-03-28|Adair                     |Iowa          |19001.0|836  |31.0  |4         |8151               |0.10256410256410256  |2037.75          |3151             |\n",
            "|2021-03-28|Adair                     |Kentucky      |21001.0|1769 |53.0  |3         |8151               |0.21702858544963807  |2037.75          |3151             |\n",
            "|2021-03-28|Adair                     |Missouri      |29001.0|2395 |20.0  |2         |8151               |0.29382897803950436  |2037.75          |3151             |\n",
            "|2021-03-28|Adair                     |Oklahoma      |40001.0|3151 |26.0  |1         |8151               |0.386578333946755    |2037.75          |3151             |\n",
            "|2021-03-28|Adams                     |North Dakota  |38001.0|268  |3.0   |12        |83558              |0.003207352976375691 |6963.166666666667|51972            |\n",
            "|2021-03-28|Adams                     |Iowa          |19003.0|319  |4.0   |11        |83558              |0.0038177074606859907|6963.166666666667|51972            |\n",
            "|2021-03-28|Adams                     |Idaho         |16003.0|336  |4.0   |10        |83558              |0.0040211589554560905|6963.166666666667|51972            |\n",
            "|2021-03-28|Adams                     |Wisconsin     |55001.0|1788 |15.0  |9         |83558              |0.02139831015581991  |6963.166666666667|51972            |\n",
            "|2021-03-28|Adams                     |Washington    |53001.0|1985 |22.0  |8         |83558              |0.023755953948155772 |6963.166666666667|51972            |\n",
            "|2021-03-28|Adams                     |Ohio          |39001.0|2236 |47.0  |7         |83558              |0.026759855429761364 |6963.166666666667|51972            |\n",
            "|2021-03-28|Adams                     |Mississippi   |28001.0|2413 |81.0  |6         |83558              |0.028878144522367696 |6963.166666666667|51972            |\n",
            "|2021-03-28|Adams                     |Nebraska      |31001.0|2794 |38.0  |5         |83558              |0.03343785155221523  |6963.166666666667|51972            |\n",
            "|2021-03-28|Adams                     |Indiana       |18001.0|3384 |52.0  |4         |83558              |0.040498815194236336 |6963.166666666667|51972            |\n",
            "|2021-03-28|Adams                     |Pennsylvania  |42001.0|7988 |159.0 |3         |83558              |0.09559826707197396  |6963.166666666667|51972            |\n",
            "|2021-03-28|Adams                     |Illinois      |17001.0|8075 |144.0 |2         |83558              |0.09663946001579742  |6963.166666666667|51972            |\n",
            "|2021-03-28|Adams                     |Colorado      |8001.0 |51972|640.0 |1         |83558              |0.6219871227171545   |6963.166666666667|51972            |\n",
            "|2021-03-28|Addison                   |Vermont       |50001.0|901  |8.0   |1         |901                |1.0                  |901.0            |901              |\n",
            "|2021-03-28|Adjuntas                  |Puerto Rico   |72001.0|479  |NaN   |1         |479                |1.0                  |479.0            |479              |\n",
            "|2021-03-28|Aguada                    |Puerto Rico   |72003.0|1259 |NaN   |1         |1259               |1.0                  |1259.0           |1259             |\n",
            "|2021-03-28|Aguadilla                 |Puerto Rico   |72005.0|1597 |NaN   |1         |1597               |1.0                  |1597.0           |1597             |\n",
            "|2021-03-28|Aguas Buenas              |Puerto Rico   |72007.0|1063 |NaN   |1         |1063               |1.0                  |1063.0           |1063             |\n",
            "|2021-03-28|Aibonito                  |Puerto Rico   |72009.0|615  |NaN   |1         |615                |1.0                  |615.0            |615              |\n",
            "|2021-03-28|Aiken                     |South Carolina|45003.0|16456|215.0 |1         |16456              |1.0                  |16456.0          |16456            |\n",
            "|2021-03-28|Aitkin                    |Minnesota     |27001.0|1214 |36.0  |1         |1214               |1.0                  |1214.0           |1214             |\n",
            "|2021-03-28|Alachua                   |Florida       |12001.0|23273|258.0 |1         |23273              |1.0                  |23273.0          |23273            |\n",
            "|2021-03-28|Alamance                  |North Carolina|37001.0|16638|239.0 |1         |16638              |1.0                  |16638.0          |16638            |\n",
            "|2021-03-28|Alameda                   |California    |6001.0 |83190|1395.0|1         |83190              |1.0                  |83190.0          |83190            |\n",
            "|2021-03-28|Alamosa                   |Colorado      |8003.0 |1343 |29.0  |1         |1343               |1.0                  |1343.0           |1343             |\n",
            "|2021-03-28|Albany                    |Wyoming       |56001.0|3961 |11.0  |2         |26379              |0.1501573221122863   |13189.5          |22418            |\n",
            "|2021-03-28|Albany                    |New York      |36001.0|22418|340.0 |1         |26379              |0.8498426778877137   |13189.5          |22418            |\n",
            "|2021-03-28|Albemarle                 |Virginia      |51003.0|5258 |76.0  |1         |5258               |1.0                  |5258.0           |5258             |\n",
            "|2021-03-28|Alcona                    |Michigan      |26001.0|459  |25.0  |1         |459                |1.0                  |459.0            |459              |\n",
            "|2021-03-28|Alcorn                    |Mississippi   |28003.0|2949 |63.0  |1         |2949               |1.0                  |2949.0           |2949             |\n",
            "|2021-03-28|Aleutians East Borough    |Alaska        |2013.0 |363  |2.0   |1         |363                |1.0                  |363.0            |363              |\n",
            "|2021-03-28|Aleutians West Census Area|Alaska        |2016.0 |650  |0.0   |1         |650                |1.0                  |650.0            |650              |\n",
            "|2021-03-28|Alexander                 |Illinois      |17003.0|456  |10.0  |2         |4536               |0.10052910052910052  |2268.0           |4080             |\n",
            "|2021-03-28|Alexander                 |North Carolina|37003.0|4080 |82.0  |1         |4536               |0.8994708994708994   |2268.0           |4080             |\n",
            "|2021-03-28|Alexandria city           |Virginia      |51510.0|10894|128.0 |1         |10894              |1.0                  |10894.0          |10894            |\n",
            "|2021-03-28|Alfalfa                   |Oklahoma      |40003.0|1151 |5.0   |1         |1151               |1.0                  |1151.0           |1151             |\n",
            "|2021-03-28|Alger                     |Michigan      |26003.0|594  |5.0   |1         |594                |1.0                  |594.0            |594              |\n",
            "|2021-03-28|Allamakee                 |Iowa          |19005.0|1483 |49.0  |1         |1483               |1.0                  |1483.0           |1483             |\n",
            "|2021-03-28|Allegan                   |Michigan      |26005.0|8048 |118.0 |1         |8048               |1.0                  |8048.0           |8048             |\n",
            "|2021-03-28|Allegany                  |New York      |36003.0|3011 |82.0  |2         |9511               |0.31658080117758386  |4755.5           |6500             |\n",
            "|2021-03-28|Allegany                  |Maryland      |24001.0|6500 |202.0 |1         |9511               |0.6834191988224162   |4755.5           |6500             |\n",
            "|2021-03-28|Alleghany                 |North Carolina|37005.0|939  |5.0   |2         |2211               |0.42469470827679784  |1105.5           |1272             |\n",
            "|2021-03-28|Alleghany                 |Virginia      |51005.0|1272 |49.0  |1         |2211               |0.5753052917232022   |1105.5           |1272             |\n",
            "+----------+--------------------------+--------------+-------+-----+------+----------+-------------------+---------------------+-----------------+-----------------+\n",
            "only showing top 50 rows\n",
            "\n"
          ],
          "name": "stdout"
        }
      ]
    },
    {
      "cell_type": "markdown",
      "metadata": {
        "id": "B6RzA3SfcLEH"
      },
      "source": [
        "Partition By Clause in SQL"
      ]
    },
    {
      "cell_type": "code",
      "metadata": {
        "id": "EnM2V4JlcMOo"
      },
      "source": [
        "# register the dataframe as a table\n",
        "ranked_states.registerTempTable(\"ranked_states\")\n"
      ],
      "execution_count": null,
      "outputs": []
    },
    {
      "cell_type": "code",
      "metadata": {
        "colab": {
          "base_uri": "https://localhost:8080/"
        },
        "id": "UvgpYQq0cRP2",
        "outputId": "3d033429-14b3-463e-9466-e2fbdc077f5e"
      },
      "source": [
        "# SQL query to get the Minimum number of cases for each county\n",
        "ranked_states_sql = sqlContext.sql(\"\"\"\n",
        "    SELECT\n",
        "        *,\n",
        "        MIN(cases) OVER (PARTITION BY county) as country_min_cases\n",
        "    FROM\n",
        "        ranked_states\n",
        "\"\"\")\n",
        "\n",
        "# we can remove a column from a dataframe using drop() function\n",
        "ranked_states_sql = ranked_states_sql.drop('country_total_cases')\n",
        "\n",
        "# let's print out the results\n",
        "ranked_states_sql.orderBy(\"county\", \"perc_total_cases\").show(50, False)"
      ],
      "execution_count": null,
      "outputs": [
        {
          "output_type": "stream",
          "text": [
            "+----------+--------------------------+--------------+-------+-----+------+----------+---------------------+-----------------+-----------------+-----------------+\n",
            "|date      |county                    |state         |fips   |cases|deaths|state_rank|perc_total_cases     |country_avg_cases|country_max_cases|country_min_cases|\n",
            "+----------+--------------------------+--------------+-------+-----+------+----------+---------------------+-----------------+-----------------+-----------------+\n",
            "|2021-03-28|Abbeville                 |South Carolina|45001.0|2418 |37.0  |1         |1.0                  |2418.0           |2418             |2418             |\n",
            "|2021-03-28|Acadia                    |Louisiana     |22001.0|6260 |188.0 |1         |1.0                  |6260.0           |6260             |6260             |\n",
            "|2021-03-28|Accomack                  |Virginia      |51001.0|2703 |37.0  |1         |1.0                  |2703.0           |2703             |2703             |\n",
            "|2021-03-28|Ada                       |Idaho         |16001.0|48870|448.0 |1         |1.0                  |48870.0          |48870            |48870            |\n",
            "|2021-03-28|Adair                     |Iowa          |19001.0|836  |31.0  |4         |0.10256410256410256  |2037.75          |3151             |836              |\n",
            "|2021-03-28|Adair                     |Kentucky      |21001.0|1769 |53.0  |3         |0.21702858544963807  |2037.75          |3151             |836              |\n",
            "|2021-03-28|Adair                     |Missouri      |29001.0|2395 |20.0  |2         |0.29382897803950436  |2037.75          |3151             |836              |\n",
            "|2021-03-28|Adair                     |Oklahoma      |40001.0|3151 |26.0  |1         |0.386578333946755    |2037.75          |3151             |836              |\n",
            "|2021-03-28|Adams                     |North Dakota  |38001.0|268  |3.0   |12        |0.003207352976375691 |6963.166666666667|51972            |268              |\n",
            "|2021-03-28|Adams                     |Iowa          |19003.0|319  |4.0   |11        |0.0038177074606859907|6963.166666666667|51972            |268              |\n",
            "|2021-03-28|Adams                     |Idaho         |16003.0|336  |4.0   |10        |0.0040211589554560905|6963.166666666667|51972            |268              |\n",
            "|2021-03-28|Adams                     |Wisconsin     |55001.0|1788 |15.0  |9         |0.02139831015581991  |6963.166666666667|51972            |268              |\n",
            "|2021-03-28|Adams                     |Washington    |53001.0|1985 |22.0  |8         |0.023755953948155772 |6963.166666666667|51972            |268              |\n",
            "|2021-03-28|Adams                     |Ohio          |39001.0|2236 |47.0  |7         |0.026759855429761364 |6963.166666666667|51972            |268              |\n",
            "|2021-03-28|Adams                     |Mississippi   |28001.0|2413 |81.0  |6         |0.028878144522367696 |6963.166666666667|51972            |268              |\n",
            "|2021-03-28|Adams                     |Nebraska      |31001.0|2794 |38.0  |5         |0.03343785155221523  |6963.166666666667|51972            |268              |\n",
            "|2021-03-28|Adams                     |Indiana       |18001.0|3384 |52.0  |4         |0.040498815194236336 |6963.166666666667|51972            |268              |\n",
            "|2021-03-28|Adams                     |Pennsylvania  |42001.0|7988 |159.0 |3         |0.09559826707197396  |6963.166666666667|51972            |268              |\n",
            "|2021-03-28|Adams                     |Illinois      |17001.0|8075 |144.0 |2         |0.09663946001579742  |6963.166666666667|51972            |268              |\n",
            "|2021-03-28|Adams                     |Colorado      |8001.0 |51972|640.0 |1         |0.6219871227171545   |6963.166666666667|51972            |268              |\n",
            "|2021-03-28|Addison                   |Vermont       |50001.0|901  |8.0   |1         |1.0                  |901.0            |901              |901              |\n",
            "|2021-03-28|Adjuntas                  |Puerto Rico   |72001.0|479  |NaN   |1         |1.0                  |479.0            |479              |479              |\n",
            "|2021-03-28|Aguada                    |Puerto Rico   |72003.0|1259 |NaN   |1         |1.0                  |1259.0           |1259             |1259             |\n",
            "|2021-03-28|Aguadilla                 |Puerto Rico   |72005.0|1597 |NaN   |1         |1.0                  |1597.0           |1597             |1597             |\n",
            "|2021-03-28|Aguas Buenas              |Puerto Rico   |72007.0|1063 |NaN   |1         |1.0                  |1063.0           |1063             |1063             |\n",
            "|2021-03-28|Aibonito                  |Puerto Rico   |72009.0|615  |NaN   |1         |1.0                  |615.0            |615              |615              |\n",
            "|2021-03-28|Aiken                     |South Carolina|45003.0|16456|215.0 |1         |1.0                  |16456.0          |16456            |16456            |\n",
            "|2021-03-28|Aitkin                    |Minnesota     |27001.0|1214 |36.0  |1         |1.0                  |1214.0           |1214             |1214             |\n",
            "|2021-03-28|Alachua                   |Florida       |12001.0|23273|258.0 |1         |1.0                  |23273.0          |23273            |23273            |\n",
            "|2021-03-28|Alamance                  |North Carolina|37001.0|16638|239.0 |1         |1.0                  |16638.0          |16638            |16638            |\n",
            "|2021-03-28|Alameda                   |California    |6001.0 |83190|1395.0|1         |1.0                  |83190.0          |83190            |83190            |\n",
            "|2021-03-28|Alamosa                   |Colorado      |8003.0 |1343 |29.0  |1         |1.0                  |1343.0           |1343             |1343             |\n",
            "|2021-03-28|Albany                    |Wyoming       |56001.0|3961 |11.0  |2         |0.1501573221122863   |13189.5          |22418            |3961             |\n",
            "|2021-03-28|Albany                    |New York      |36001.0|22418|340.0 |1         |0.8498426778877137   |13189.5          |22418            |3961             |\n",
            "|2021-03-28|Albemarle                 |Virginia      |51003.0|5258 |76.0  |1         |1.0                  |5258.0           |5258             |5258             |\n",
            "|2021-03-28|Alcona                    |Michigan      |26001.0|459  |25.0  |1         |1.0                  |459.0            |459              |459              |\n",
            "|2021-03-28|Alcorn                    |Mississippi   |28003.0|2949 |63.0  |1         |1.0                  |2949.0           |2949             |2949             |\n",
            "|2021-03-28|Aleutians East Borough    |Alaska        |2013.0 |363  |2.0   |1         |1.0                  |363.0            |363              |363              |\n",
            "|2021-03-28|Aleutians West Census Area|Alaska        |2016.0 |650  |0.0   |1         |1.0                  |650.0            |650              |650              |\n",
            "|2021-03-28|Alexander                 |Illinois      |17003.0|456  |10.0  |2         |0.10052910052910052  |2268.0           |4080             |456              |\n",
            "|2021-03-28|Alexander                 |North Carolina|37003.0|4080 |82.0  |1         |0.8994708994708994   |2268.0           |4080             |456              |\n",
            "|2021-03-28|Alexandria city           |Virginia      |51510.0|10894|128.0 |1         |1.0                  |10894.0          |10894            |10894            |\n",
            "|2021-03-28|Alfalfa                   |Oklahoma      |40003.0|1151 |5.0   |1         |1.0                  |1151.0           |1151             |1151             |\n",
            "|2021-03-28|Alger                     |Michigan      |26003.0|594  |5.0   |1         |1.0                  |594.0            |594              |594              |\n",
            "|2021-03-28|Allamakee                 |Iowa          |19005.0|1483 |49.0  |1         |1.0                  |1483.0           |1483             |1483             |\n",
            "|2021-03-28|Allegan                   |Michigan      |26005.0|8048 |118.0 |1         |1.0                  |8048.0           |8048             |8048             |\n",
            "|2021-03-28|Allegany                  |New York      |36003.0|3011 |82.0  |2         |0.31658080117758386  |4755.5           |6500             |3011             |\n",
            "|2021-03-28|Allegany                  |Maryland      |24001.0|6500 |202.0 |1         |0.6834191988224162   |4755.5           |6500             |3011             |\n",
            "|2021-03-28|Alleghany                 |North Carolina|37005.0|939  |5.0   |2         |0.42469470827679784  |1105.5           |1272             |939              |\n",
            "|2021-03-28|Alleghany                 |Virginia      |51005.0|1272 |49.0  |1         |0.5753052917232022   |1105.5           |1272             |939              |\n",
            "+----------+--------------------------+--------------+-------+-----+------+----------+---------------------+-----------------+-----------------+-----------------+\n",
            "only showing top 50 rows\n",
            "\n"
          ],
          "name": "stdout"
        }
      ]
    },
    {
      "cell_type": "markdown",
      "metadata": {
        "id": "J3KMFBE2cd2E"
      },
      "source": [
        "**Automation**\n",
        "~ Overall Numbers\n",
        "~ Overall Daily Numbers\n",
        "~ County Overall Numbers\n",
        "~ County % cases and cumulative numbers\n",
        "~ Particular County Daaily numbers\n",
        "~ Category Top states\n",
        "many others...\n",
        "\n"
      ]
    },
    {
      "cell_type": "code",
      "metadata": {
        "id": "4jcuuVmRcwFO"
      },
      "source": [
        "# here we will define a class and will create its object to access its methods which will return the summaries at various levels\n",
        "class Covid19():\n",
        "    \n",
        "    # constructor: this will be the first to execute, when an object of the class is created\n",
        "    # self: is the default parameter and will be there in all the methods of the class. It points to the class itself\n",
        "    # other parameters are sqlContext and filename. Since these does not take any default values, they should be passed while,\n",
        "    # creating an object of the class\n",
        "    def __init__(self, sqlContext, filename):\n",
        "        \n",
        "        # input the spark context\n",
        "        self.sqlContext = sqlContext\n",
        "        # input the file\n",
        "        self.filename = filename\n",
        "        \n",
        "        # create the spark dataframe from the file\n",
        "        pdf = pd.read_csv(self.filename)\n",
        "        # convert pandas dataframe in pyspark datafram and save it in a class variable\n",
        "        self.covid19_dataset = self.sqlContext.createDataFrame(pdf)\n",
        "    \n",
        "    \n",
        "    def get_date(self, min_max=\"max\"):\n",
        "        \"\"\"\n",
        "            Return either the minimum or maximum date from the dataset.\n",
        "            \n",
        "                Parameter:\n",
        "                    min_max (string): Takes either 'min' or 'max' as input\n",
        "                \n",
        "                Return:\n",
        "                    date (string): returns the date in the format 'yyyy-mm-dd'\n",
        "        \"\"\"\n",
        "        \n",
        "        # ensure the value is either 'min' or 'max'\n",
        "        assert min_max in ('min', 'max')\n",
        "        \n",
        "        if min_max == 'min':\n",
        "            return self.covid19_dataset.agg(F.min(\"date\").alias(\"min_date\")).collect()[0]['min_date']\n",
        "        else:\n",
        "            return self.covid19_dataset.agg(F.max(\"date\").alias(\"max_date\")).collect()[0]['max_date']\n",
        "    \n",
        "    \n",
        "    def get_overall_numbers(self, date='max'):\n",
        "        \"\"\"\n",
        "            This will return the overall summary that is the number of cases, deaths and distinct number of counties and states.\n",
        "                \n",
        "                Parameters:\n",
        "                    date (string): Takes one of the following as input 'max', 'min', date in format 'yyyy-mm-dd' or None\n",
        "                    \n",
        "                Returns:\n",
        "                    overall_summary(spark dataframe): Returns the summary according to the date provided\n",
        "        \"\"\"\n",
        "        \n",
        "        # get the max/min date\n",
        "        if date == \"max\" or date == 'min':\n",
        "            date = self.get_date(date)\n",
        "            \n",
        "        # if no date is provided then filter on date is not required else filter on the date\n",
        "        if date == None:\n",
        "            filtered_data = self.covid19_dataset\n",
        "        else:\n",
        "            # filter the data\n",
        "            filtered_data = self.covid19_dataset.filter(F.col(\"date\") == date)\n",
        "            \n",
        "        # group on date and calculate the metrics\n",
        "        overall_summary = filtered_data.groupBy(\n",
        "                                \"date\"\n",
        "                            ).agg(\n",
        "                                F.sum(\"cases\").alias(\"total_cases\"),\n",
        "                                F.sum(\"deaths\").alias(\"total_deaths\"),\n",
        "                                F.countDistinct(\"county\").alias(\"num_of_counties\"),\n",
        "                                F.countDistinct(\"state\").alias(\"num_of_states\"),\n",
        "                            )\n",
        "        \n",
        "        # return the summary dataframe\n",
        "        return overall_summary\n",
        "    \n",
        "    \n",
        "    def get_county_numbers(self, date='max', county=None):\n",
        "        \"\"\"\n",
        "            This will return the overall summary that is the number of cases, deaths and distinct number of counties and states.\n",
        "                \n",
        "                Parameters:\n",
        "                    date (string): Takes one of the following as input 'max', 'min', date in format 'yyyy-mm-dd' or None\n",
        "                    county (string): Take either None or the name of a county\n",
        "                    \n",
        "                Returns:\n",
        "                    county_summary(spark dataframe): If county is not provided then data for all the counties will be \n",
        "                                                        returned else for the provided county\n",
        "        \"\"\"\n",
        "        \n",
        "        # get the max/min date\n",
        "        if date == \"max\" or date == 'min':\n",
        "            date = self.get_date(date)\n",
        "        \n",
        "        # if no date is provided then filter on date is not required else filter on the date\n",
        "        if date == None:\n",
        "            filtered_data = self.covid19_dataset\n",
        "        else:\n",
        "            filtered_data = self.covid19_dataset.filter(F.col(\"date\") == date)\n",
        "            \n",
        "            \n",
        "        # filter data for a county if provided else no filtering on data is required\n",
        "        if county == None:\n",
        "            pass\n",
        "        else:\n",
        "            filtered_data = filtered_data.filter(F.col(\"county\") == county)\n",
        "            \n",
        "        # now group on both date and county. This will return the metrics for each county for every date\n",
        "        county_summary = filtered_data.groupBy(\n",
        "                                \"date\", \"county\"\n",
        "                            ).agg(\n",
        "                                F.sum(\"cases\").alias(\"total_cases\"),\n",
        "                                F.sum(\"deaths\").alias(\"total_deaths\"),\n",
        "                                F.countDistinct(\"state\").alias(\"num_of_states\")\n",
        "                            )\n",
        "        \n",
        "        # return the summary\n",
        "        return county_summary"
      ],
      "execution_count": null,
      "outputs": []
    },
    {
      "cell_type": "code",
      "metadata": {
        "colab": {
          "base_uri": "https://localhost:8080/"
        },
        "id": "rjpd1VeTdQZc",
        "outputId": "4ff52a9d-c1e4-4563-fbb1-a7ee4175f1d3"
      },
      "source": [
        "# now create an object of the class\n",
        "# pass the required parameters\n",
        "covid19_class_obj = Covid19(\n",
        "                        sqlContext= sqlContext, \n",
        "                        filename='us-counties.csv')\n",
        "\n",
        "# now let's check the type of the object\n",
        "type(covid19_class_obj)"
      ],
      "execution_count": null,
      "outputs": [
        {
          "output_type": "execute_result",
          "data": {
            "text/plain": [
              "__main__.Covid19"
            ]
          },
          "metadata": {
            "tags": []
          },
          "execution_count": 63
        }
      ]
    },
    {
      "cell_type": "code",
      "metadata": {
        "colab": {
          "base_uri": "https://localhost:8080/"
        },
        "id": "ig1mKXWmdv_g",
        "outputId": "96b5cb22-7544-4c06-db5a-2887663d78e9"
      },
      "source": [
        "# let's now access the spark dataframe using the class object\n",
        "covid19_class_obj.covid19_dataset.show(2, False)"
      ],
      "execution_count": null,
      "outputs": [
        {
          "output_type": "stream",
          "text": [
            "+----------+---------+----------+-------+-----+------+\n",
            "|date      |county   |state     |fips   |cases|deaths|\n",
            "+----------+---------+----------+-------+-----+------+\n",
            "|2020-01-21|Snohomish|Washington|53061.0|1    |0.0   |\n",
            "|2020-01-22|Snohomish|Washington|53061.0|1    |0.0   |\n",
            "+----------+---------+----------+-------+-----+------+\n",
            "only showing top 2 rows\n",
            "\n"
          ],
          "name": "stdout"
        }
      ]
    },
    {
      "cell_type": "code",
      "metadata": {
        "colab": {
          "base_uri": "https://localhost:8080/"
        },
        "id": "a9XHUtJ5d8ER",
        "outputId": "f2919fb3-c7ed-4551-996a-d57d36a3f989"
      },
      "source": [
        "# also let's use the method-get_overall_numbers() and get the metrics for the latest date (max date)\n",
        "covid19_class_obj.get_overall_numbers(date='max').show()"
      ],
      "execution_count": null,
      "outputs": [
        {
          "output_type": "stream",
          "text": [
            "+----------+-----------+------------+---------------+-------------+\n",
            "|      date|total_cases|total_deaths|num_of_counties|num_of_states|\n",
            "+----------+-----------+------------+---------------+-------------+\n",
            "|2021-03-28|   30285475|         NaN|           1930|           55|\n",
            "+----------+-----------+------------+---------------+-------------+\n",
            "\n"
          ],
          "name": "stdout"
        }
      ]
    },
    {
      "cell_type": "code",
      "metadata": {
        "colab": {
          "base_uri": "https://localhost:8080/"
        },
        "id": "7CjYK4FLd9GB",
        "outputId": "cf47d3c7-b702-4b6f-935b-1d26615adbb3"
      },
      "source": [
        "# also, let's see the output if we provide None in the date\n",
        "covid19_class_obj.get_overall_numbers(date=None).orderBy(F.desc(\"date\")).show(5, False)\n"
      ],
      "execution_count": null,
      "outputs": [
        {
          "output_type": "stream",
          "text": [
            "+----------+-----------+------------+---------------+-------------+\n",
            "|date      |total_cases|total_deaths|num_of_counties|num_of_states|\n",
            "+----------+-----------+------------+---------------+-------------+\n",
            "|2021-03-28|30285475   |NaN         |1930           |55           |\n",
            "|2021-03-27|30239893   |NaN         |1930           |55           |\n",
            "|2021-03-26|30179591   |NaN         |1930           |55           |\n",
            "|2021-03-25|30103835   |NaN         |1930           |55           |\n",
            "|2021-03-24|30034341   |NaN         |1930           |55           |\n",
            "+----------+-----------+------------+---------------+-------------+\n",
            "only showing top 5 rows\n",
            "\n"
          ],
          "name": "stdout"
        }
      ]
    },
    {
      "cell_type": "code",
      "metadata": {
        "colab": {
          "base_uri": "https://localhost:8080/"
        },
        "id": "3j3xNmSmeIP5",
        "outputId": "ff7e894b-07f3-4903-e839-d530dcb7b071"
      },
      "source": [
        "# let's now get the cases for all the counties for the latest date\n",
        "covid19_class_obj.get_county_numbers(date='max', county=None).show(10, False)"
      ],
      "execution_count": null,
      "outputs": [
        {
          "output_type": "stream",
          "text": [
            "+----------+--------------+-----------+------------+-------------+\n",
            "|date      |county        |total_cases|total_deaths|num_of_states|\n",
            "+----------+--------------+-----------+------------+-------------+\n",
            "|2021-03-28|Rosebud       |1188       |44.0        |1            |\n",
            "|2021-03-28|Middlesex     |215322     |6189.0      |4            |\n",
            "|2021-03-28|Licking       |15589      |202.0       |1            |\n",
            "|2021-03-28|Mineral       |3272       |88.0        |4            |\n",
            "|2021-03-28|Denali Borough|85         |0.0         |1            |\n",
            "|2021-03-28|Banks         |1771       |34.0        |1            |\n",
            "|2021-03-28|Mathews       |575        |12.0        |1            |\n",
            "|2021-03-28|Lubbock       |48537      |776.0       |1            |\n",
            "|2021-03-28|Athens        |4805       |52.0        |1            |\n",
            "|2021-03-28|McClain       |5127       |54.0        |1            |\n",
            "+----------+--------------+-----------+------------+-------------+\n",
            "only showing top 10 rows\n",
            "\n"
          ],
          "name": "stdout"
        }
      ]
    },
    {
      "cell_type": "code",
      "metadata": {
        "colab": {
          "base_uri": "https://localhost:8080/"
        },
        "id": "lkiBgiKGeMMv",
        "outputId": "4bcc32ce-a7ec-4934-b8fa-a1441bf04b7a"
      },
      "source": [
        "# and lastly for all the countuies for all the dates\n",
        "covid19_class_obj.get_county_numbers(date=None, county=None).orderBy(\"county\", \"date\").show(100, False)"
      ],
      "execution_count": null,
      "outputs": [
        {
          "output_type": "stream",
          "text": [
            "+----------+---------+-----------+------------+-------------+\n",
            "|date      |county   |total_cases|total_deaths|num_of_states|\n",
            "+----------+---------+-----------+------------+-------------+\n",
            "|2020-03-19|Abbeville|1          |0.0         |1            |\n",
            "|2020-03-20|Abbeville|1          |0.0         |1            |\n",
            "|2020-03-21|Abbeville|1          |0.0         |1            |\n",
            "|2020-03-22|Abbeville|1          |0.0         |1            |\n",
            "|2020-03-23|Abbeville|1          |0.0         |1            |\n",
            "|2020-03-24|Abbeville|1          |0.0         |1            |\n",
            "|2020-03-25|Abbeville|3          |0.0         |1            |\n",
            "|2020-03-26|Abbeville|4          |0.0         |1            |\n",
            "|2020-03-27|Abbeville|4          |0.0         |1            |\n",
            "|2020-03-28|Abbeville|4          |0.0         |1            |\n",
            "|2020-03-29|Abbeville|4          |0.0         |1            |\n",
            "|2020-03-30|Abbeville|3          |0.0         |1            |\n",
            "|2020-03-31|Abbeville|4          |0.0         |1            |\n",
            "|2020-04-01|Abbeville|4          |0.0         |1            |\n",
            "|2020-04-02|Abbeville|6          |0.0         |1            |\n",
            "|2020-04-03|Abbeville|6          |0.0         |1            |\n",
            "|2020-04-04|Abbeville|6          |0.0         |1            |\n",
            "|2020-04-05|Abbeville|6          |0.0         |1            |\n",
            "|2020-04-06|Abbeville|6          |0.0         |1            |\n",
            "|2020-04-07|Abbeville|5          |0.0         |1            |\n",
            "|2020-04-08|Abbeville|6          |0.0         |1            |\n",
            "|2020-04-09|Abbeville|7          |0.0         |1            |\n",
            "|2020-04-10|Abbeville|7          |0.0         |1            |\n",
            "|2020-04-11|Abbeville|9          |0.0         |1            |\n",
            "|2020-04-12|Abbeville|9          |0.0         |1            |\n",
            "|2020-04-13|Abbeville|9          |0.0         |1            |\n",
            "|2020-04-14|Abbeville|9          |0.0         |1            |\n",
            "|2020-04-15|Abbeville|10         |0.0         |1            |\n",
            "|2020-04-16|Abbeville|10         |0.0         |1            |\n",
            "|2020-04-17|Abbeville|10         |0.0         |1            |\n",
            "|2020-04-18|Abbeville|15         |0.0         |1            |\n",
            "|2020-04-19|Abbeville|17         |0.0         |1            |\n",
            "|2020-04-20|Abbeville|17         |0.0         |1            |\n",
            "|2020-04-21|Abbeville|18         |0.0         |1            |\n",
            "|2020-04-22|Abbeville|22         |0.0         |1            |\n",
            "|2020-04-23|Abbeville|23         |0.0         |1            |\n",
            "|2020-04-24|Abbeville|24         |0.0         |1            |\n",
            "|2020-04-25|Abbeville|24         |0.0         |1            |\n",
            "|2020-04-26|Abbeville|27         |0.0         |1            |\n",
            "|2020-04-27|Abbeville|29         |0.0         |1            |\n",
            "|2020-04-28|Abbeville|29         |0.0         |1            |\n",
            "|2020-04-29|Abbeville|29         |0.0         |1            |\n",
            "|2020-04-30|Abbeville|31         |0.0         |1            |\n",
            "|2020-05-01|Abbeville|31         |0.0         |1            |\n",
            "|2020-05-02|Abbeville|31         |0.0         |1            |\n",
            "|2020-05-03|Abbeville|33         |0.0         |1            |\n",
            "|2020-05-04|Abbeville|33         |0.0         |1            |\n",
            "|2020-05-05|Abbeville|33         |0.0         |1            |\n",
            "|2020-05-06|Abbeville|33         |0.0         |1            |\n",
            "|2020-05-07|Abbeville|34         |0.0         |1            |\n",
            "|2020-05-08|Abbeville|34         |0.0         |1            |\n",
            "|2020-05-09|Abbeville|34         |0.0         |1            |\n",
            "|2020-05-10|Abbeville|34         |0.0         |1            |\n",
            "|2020-05-11|Abbeville|34         |0.0         |1            |\n",
            "|2020-05-12|Abbeville|34         |0.0         |1            |\n",
            "|2020-05-13|Abbeville|34         |0.0         |1            |\n",
            "|2020-05-14|Abbeville|34         |0.0         |1            |\n",
            "|2020-05-15|Abbeville|34         |0.0         |1            |\n",
            "|2020-05-16|Abbeville|34         |0.0         |1            |\n",
            "|2020-05-17|Abbeville|35         |0.0         |1            |\n",
            "|2020-05-18|Abbeville|35         |0.0         |1            |\n",
            "|2020-05-19|Abbeville|36         |0.0         |1            |\n",
            "|2020-05-20|Abbeville|36         |0.0         |1            |\n",
            "|2020-05-21|Abbeville|36         |0.0         |1            |\n",
            "|2020-05-22|Abbeville|36         |0.0         |1            |\n",
            "|2020-05-23|Abbeville|35         |0.0         |1            |\n",
            "|2020-05-24|Abbeville|35         |0.0         |1            |\n",
            "|2020-05-25|Abbeville|35         |0.0         |1            |\n",
            "|2020-05-26|Abbeville|35         |0.0         |1            |\n",
            "|2020-05-27|Abbeville|35         |0.0         |1            |\n",
            "|2020-05-28|Abbeville|37         |0.0         |1            |\n",
            "|2020-05-29|Abbeville|39         |0.0         |1            |\n",
            "|2020-05-30|Abbeville|39         |0.0         |1            |\n",
            "|2020-05-31|Abbeville|42         |0.0         |1            |\n",
            "|2020-06-01|Abbeville|44         |0.0         |1            |\n",
            "|2020-06-02|Abbeville|46         |0.0         |1            |\n",
            "|2020-06-03|Abbeville|46         |0.0         |1            |\n",
            "|2020-06-04|Abbeville|47         |0.0         |1            |\n",
            "|2020-06-05|Abbeville|47         |0.0         |1            |\n",
            "|2020-06-06|Abbeville|49         |0.0         |1            |\n",
            "|2020-06-07|Abbeville|51         |0.0         |1            |\n",
            "|2020-06-08|Abbeville|58         |0.0         |1            |\n",
            "|2020-06-09|Abbeville|60         |0.0         |1            |\n",
            "|2020-06-10|Abbeville|60         |0.0         |1            |\n",
            "|2020-06-11|Abbeville|63         |0.0         |1            |\n",
            "|2020-06-12|Abbeville|62         |0.0         |1            |\n",
            "|2020-06-13|Abbeville|63         |0.0         |1            |\n",
            "|2020-06-14|Abbeville|67         |0.0         |1            |\n",
            "|2020-06-15|Abbeville|70         |0.0         |1            |\n",
            "|2020-06-16|Abbeville|73         |0.0         |1            |\n",
            "|2020-06-17|Abbeville|73         |0.0         |1            |\n",
            "|2020-06-18|Abbeville|73         |0.0         |1            |\n",
            "|2020-06-19|Abbeville|73         |0.0         |1            |\n",
            "|2020-06-20|Abbeville|86         |0.0         |1            |\n",
            "|2020-06-21|Abbeville|88         |0.0         |1            |\n",
            "|2020-06-22|Abbeville|87         |0.0         |1            |\n",
            "|2020-06-23|Abbeville|86         |0.0         |1            |\n",
            "|2020-06-24|Abbeville|91         |0.0         |1            |\n",
            "|2020-06-25|Abbeville|99         |0.0         |1            |\n",
            "|2020-06-26|Abbeville|100        |0.0         |1            |\n",
            "+----------+---------+-----------+------------+-------------+\n",
            "only showing top 100 rows\n",
            "\n"
          ],
          "name": "stdout"
        }
      ]
    }
  ]
}